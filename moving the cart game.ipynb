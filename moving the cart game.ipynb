{
  "cells": [
    {
      "cell_type": "markdown",
      "metadata": {
        "id": "view-in-github",
        "colab_type": "text"
      },
      "source": [
        "<a href=\"https://colab.research.google.com/github/dantae74/python/blob/master/moving%20the%20cart%20game.ipynb\" target=\"_parent\"><img src=\"https://colab.research.google.com/assets/colab-badge.svg\" alt=\"Open In Colab\"/></a>"
      ]
    },
    {
      "cell_type": "code",
      "source": [
        "!pip install -Uqq ipdb\n",
        "import ipdb"
      ],
      "metadata": {
        "id": "WchiMrykOOUb",
        "outputId": "f1258023-6dba-4485-fb86-8bd77d64c45f",
        "colab": {
          "base_uri": "https://localhost:8080/"
        }
      },
      "execution_count": null,
      "outputs": [
        {
          "output_type": "stream",
          "name": "stdout",
          "text": [
            "\u001b[?25l     \u001b[90m━━━━━━━━━━━━━━━━━━━━━━━━━━━━━━━━━━━━━━━━\u001b[0m \u001b[32m0.0/1.6 MB\u001b[0m \u001b[31m?\u001b[0m eta \u001b[36m-:--:--\u001b[0m\r\u001b[2K     \u001b[91m━━━━\u001b[0m\u001b[91m╸\u001b[0m\u001b[90m━━━━━━━━━━━━━━━━━━━━━━━━━━━━━━━━━━━\u001b[0m \u001b[32m0.2/1.6 MB\u001b[0m \u001b[31m5.8 MB/s\u001b[0m eta \u001b[36m0:00:01\u001b[0m\r\u001b[2K     \u001b[91m━━━━━━━━━━━━━━━━━━━━━━━━━━━━━━━━━━━━━━━\u001b[0m\u001b[91m╸\u001b[0m \u001b[32m1.6/1.6 MB\u001b[0m \u001b[31m22.7 MB/s\u001b[0m eta \u001b[36m0:00:01\u001b[0m\r\u001b[2K     \u001b[90m━━━━━━━━━━━━━━━━━━━━━━━━━━━━━━━━━━━━━━━━\u001b[0m \u001b[32m1.6/1.6 MB\u001b[0m \u001b[31m16.8 MB/s\u001b[0m eta \u001b[36m0:00:00\u001b[0m\n",
            "\u001b[?25h"
          ]
        }
      ]
    },
    {
      "cell_type": "code",
      "source": [
        "%pdb on\n",
        "ipdb.set_trace(context=10)"
      ],
      "metadata": {
        "id": "bPi2FjmWOr5S",
        "outputId": "a5738b20-4f9b-496c-efc0-a48a87e9a581",
        "colab": {
          "base_uri": "https://localhost:8080/"
        }
      },
      "execution_count": null,
      "outputs": [
        {
          "output_type": "stream",
          "name": "stdout",
          "text": [
            "Automatic pdb calling has been turned ON\n"
          ]
        }
      ]
    },
    {
      "cell_type": "code",
      "source": [
        "RED_WAGON = 1\n",
        "BLUE_WAGON = 2\n",
        "RED_GOAL = 3\n",
        "BLUE_GOAL = 4\n",
        "WALL = 5\n",
        "\n",
        "\n",
        "def solution(maze, M, N):\n",
        "  red_paths = []\n",
        "  blue_paths = []\n",
        "\n",
        "\n",
        "\n",
        "\n",
        "\n",
        "  pass\n",
        "\n",
        "\n",
        "\n",
        "maze1 = [[1, 4], [0, 0], [2, 3]]\n",
        "maze2 = [[1, 0, 2], [0, 0, 0], [5, 0 ,5], [4, 0, 3]]\n",
        "maze3 = [[1, 5], [2, 5], [4, 5], [3, 5]]\n",
        "maze4 = [[4, 1, 2, 3]]\n",
        "\n"
      ],
      "metadata": {
        "id": "nF4hPD4JF9Ap"
      },
      "execution_count": null,
      "outputs": []
    }
  ],
  "metadata": {
    "colab": {
      "name": "Colaboratory에 오신 것을 환영합니다",
      "provenance": [],
      "include_colab_link": true
    },
    "kernelspec": {
      "display_name": "Python 3",
      "name": "python3"
    }
  },
  "nbformat": 4,
  "nbformat_minor": 0
}