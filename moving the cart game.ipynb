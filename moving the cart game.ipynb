{
  "cells": [
    {
      "cell_type": "markdown",
      "metadata": {
        "id": "view-in-github",
        "colab_type": "text"
      },
      "source": [
        "<a href=\"https://colab.research.google.com/github/dantae74/python/blob/master/moving%20the%20cart%20game.ipynb\" target=\"_parent\"><img src=\"https://colab.research.google.com/assets/colab-badge.svg\" alt=\"Open In Colab\"/></a>"
      ]
    },
    {
      "cell_type": "code",
      "source": [
        "!pip install -Uqq ipdb\n",
        "import ipdb"
      ],
      "metadata": {
        "id": "WchiMrykOOUb",
        "outputId": "f1258023-6dba-4485-fb86-8bd77d64c45f",
        "colab": {
          "base_uri": "https://localhost:8080/"
        }
      },
      "execution_count": null,
      "outputs": [
        {
          "output_type": "stream",
          "name": "stdout",
          "text": [
            "\u001b[?25l     \u001b[90m━━━━━━━━━━━━━━━━━━━━━━━━━━━━━━━━━━━━━━━━\u001b[0m \u001b[32m0.0/1.6 MB\u001b[0m \u001b[31m?\u001b[0m eta \u001b[36m-:--:--\u001b[0m\r\u001b[2K     \u001b[91m━━━━\u001b[0m\u001b[91m╸\u001b[0m\u001b[90m━━━━━━━━━━━━━━━━━━━━━━━━━━━━━━━━━━━\u001b[0m \u001b[32m0.2/1.6 MB\u001b[0m \u001b[31m5.8 MB/s\u001b[0m eta \u001b[36m0:00:01\u001b[0m\r\u001b[2K     \u001b[91m━━━━━━━━━━━━━━━━━━━━━━━━━━━━━━━━━━━━━━━\u001b[0m\u001b[91m╸\u001b[0m \u001b[32m1.6/1.6 MB\u001b[0m \u001b[31m22.7 MB/s\u001b[0m eta \u001b[36m0:00:01\u001b[0m\r\u001b[2K     \u001b[90m━━━━━━━━━━━━━━━━━━━━━━━━━━━━━━━━━━━━━━━━\u001b[0m \u001b[32m1.6/1.6 MB\u001b[0m \u001b[31m16.8 MB/s\u001b[0m eta \u001b[36m0:00:00\u001b[0m\n",
            "\u001b[?25h"
          ]
        }
      ]
    },
    {
      "cell_type": "code",
      "source": [
        "%pdb on\n",
        "ipdb.set_trace(context=10)"
      ],
      "metadata": {
        "id": "bPi2FjmWOr5S",
        "outputId": "a5738b20-4f9b-496c-efc0-a48a87e9a581",
        "colab": {
          "base_uri": "https://localhost:8080/"
        }
      },
      "execution_count": null,
      "outputs": [
        {
          "output_type": "stream",
          "name": "stdout",
          "text": [
            "Automatic pdb calling has been turned ON\n"
          ]
        }
      ]
    },
    {
      "cell_type": "code",
      "source": [
        "import deque\n",
        "\n",
        "RED = 0\n",
        "BLUE = 1\n",
        "\n",
        "RED_CART = 1\n",
        "BLUE_CART = 2\n",
        "RED_GOAL = 3\n",
        "BLUE_GOAL = 4\n",
        "WALL = 5\n",
        "\n",
        "red_paths = []\n",
        "blue_paths = []\n",
        "red_pos = []\n",
        "blue_pos = []\n",
        "red_goal = []\n",
        "blue_goal = []\n",
        "\n",
        "def solution(maze):\n",
        "\n",
        "  for i, row in enumerate(maze):\n",
        "    for j, zone in enumerate(maze[i]):\n",
        "      if zone == 1: red_pos = [i, j]\n",
        "      elif zone == 2: blue_pos = [i, j]\n",
        "      elif zone == 3: red_goal = [i, j]\n",
        "      elif zone == 4: blue_goal = [i, j]\n",
        "\n",
        "  print(red_pos, blue_pos, red_goal, blue_goal)\n",
        "\n",
        "  visited =\n",
        "\n",
        "  queue = deque()\n",
        "\n",
        "\n",
        "\n",
        "\n",
        "\n",
        "\n",
        "maze1 = [[1, 4], [0, 0], [2, 3]]\n",
        "maze2 = [[1, 0, 2], [0, 0, 0], [5, 0 ,5], [4, 0, 3]]\n",
        "maze3 = [[1, 5], [2, 5], [4, 5], [3, 5]]\n",
        "maze4 = [[4, 1, 2, 3]]\n",
        "\n",
        "solution(maze2)\n"
      ],
      "metadata": {
        "id": "nF4hPD4JF9Ap",
        "outputId": "6aa39361-d45c-4604-cf5c-cf7f8e515668",
        "colab": {
          "base_uri": "https://localhost:8080/"
        }
      },
      "execution_count": 7,
      "outputs": [
        {
          "output_type": "stream",
          "name": "stdout",
          "text": [
            "[0, 0] [0, 2] [3, 2] [3, 0]\n"
          ]
        }
      ]
    },
    {
      "cell_type": "code",
      "source": [
        "maze2 = [[1, 0, 2], [0, 0, 0], [5, 0 ,5], [4, 0, 3]]\n",
        "\n",
        "a = []\n",
        "\n",
        "for i, row in enumerate(maze2):\n",
        "  for j, zone in enumerate(maze2[i]):\n",
        "    print(f'{i=}, {j=}, {zone=}')\n",
        "    if i == 0 and j == 2: a = [i, j]\n",
        "\n",
        "print(a)"
      ],
      "metadata": {
        "id": "9EDXSx8YU_LY",
        "outputId": "ed3ea0c5-4f3b-4906-d34b-4e6c8737fcee",
        "colab": {
          "base_uri": "https://localhost:8080/"
        }
      },
      "execution_count": 3,
      "outputs": [
        {
          "output_type": "stream",
          "name": "stdout",
          "text": [
            "i=0, j=0, zone=1\n",
            "i=0, j=1, zone=0\n",
            "i=0, j=2, zone=2\n",
            "i=1, j=0, zone=0\n",
            "i=1, j=1, zone=0\n",
            "i=1, j=2, zone=0\n",
            "i=2, j=0, zone=5\n",
            "i=2, j=1, zone=0\n",
            "i=2, j=2, zone=5\n",
            "i=3, j=0, zone=4\n",
            "i=3, j=1, zone=0\n",
            "i=3, j=2, zone=3\n",
            "[0, 2]\n"
          ]
        }
      ]
    },
    {
      "cell_type": "code",
      "source": [
        "visited =[[[False for _ in range(3)] for _ in range(3)] for _ in range(2)]\n",
        "visited[0][0][0] = True\n",
        "visited[0][1][0] = True\n",
        "visited[1][0][0] = True\n",
        "visited"
      ],
      "metadata": {
        "id": "-cMmljXBVVWE",
        "outputId": "47e3e5dc-84e9-4592-9924-80b1b8d23d12",
        "colab": {
          "base_uri": "https://localhost:8080/"
        }
      },
      "execution_count": 22,
      "outputs": [
        {
          "output_type": "execute_result",
          "data": {
            "text/plain": [
              "[[[True, False, False], [True, False, False], [False, False, False]],\n",
              " [[True, False, False], [False, False, False], [False, False, False]]]"
            ]
          },
          "metadata": {},
          "execution_count": 22
        }
      ]
    },
    {
      "cell_type": "code",
      "source": [],
      "metadata": {
        "id": "TGY_HdbTaVtO"
      },
      "execution_count": null,
      "outputs": []
    }
  ],
  "metadata": {
    "colab": {
      "name": "Colaboratory에 오신 것을 환영합니다",
      "provenance": [],
      "include_colab_link": true
    },
    "kernelspec": {
      "display_name": "Python 3",
      "name": "python3"
    }
  },
  "nbformat": 4,
  "nbformat_minor": 0
}