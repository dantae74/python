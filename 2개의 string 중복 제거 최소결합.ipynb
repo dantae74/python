{
  "cells": [
    {
      "cell_type": "markdown",
      "metadata": {
        "id": "view-in-github",
        "colab_type": "text"
      },
      "source": [
        "<a href=\"https://colab.research.google.com/github/dantae74/python/blob/master/2%EA%B0%9C%EC%9D%98%20string%20%EC%A4%91%EB%B3%B5%20%EC%A0%9C%EA%B1%B0%20%EC%B5%9C%EC%86%8C%EA%B2%B0%ED%95%A9.ipynb\" target=\"_parent\"><img src=\"https://colab.research.google.com/assets/colab-badge.svg\" alt=\"Open In Colab\"/></a>"
      ]
    },
    {
      "cell_type": "code",
      "source": [
        "def solution(str1, str2):\n",
        "    strings = []\n",
        "\n",
        "    wf = [(str1, str2), (str2, str1)]\n",
        "\n",
        "    ml = min(len(str1), len(str2))\n",
        "    for s1, s2 in wf:\n",
        "        print(\"1. s1:{}, s2: {}\".format(s1, s2))\n",
        "\n",
        "        for i in range(ml):\n",
        "            if s1[len(s1)-ml+i:] == s2[:ml-i]:\n",
        "                strings.append(s1+s2[ml-i:])\n",
        "                print(\"2. strings: {}\".format(strings))\n",
        "\n",
        "    return min(len(strings[0]), len(strings[1]))\n",
        "\n",
        "s1 = \"ababc\"\n",
        "s2 = \"abcdab\"\n",
        "\n",
        "ret = solution(s1, s2)\n",
        "print(\"s1 s2 결합한 최소 길이는 : {}\". format(ret))\n"
      ],
      "metadata": {
        "id": "XKwoc9aMhEsP",
        "outputId": "19273e80-a1c6-4842-ae17-867ea2ee65e7",
        "colab": {
          "base_uri": "https://localhost:8080/"
        }
      },
      "execution_count": 2,
      "outputs": [
        {
          "output_type": "stream",
          "name": "stdout",
          "text": [
            "1. s1:ababc, s2: abcdab\n",
            "2. strings: ['ababcdab']\n",
            "1. s1:abcdab, s2: ababc\n",
            "2. strings: ['ababcdab', 'abcdababc']\n",
            "s1 s2 결합한 최소 길이는 : 8\n"
          ]
        }
      ]
    },
    {
      "cell_type": "code",
      "source": [
        "a = [i for i in range(6)]"
      ],
      "metadata": {
        "id": "ITKU4BUausLA"
      },
      "execution_count": null,
      "outputs": []
    },
    {
      "cell_type": "code",
      "source": [
        "len(a)"
      ],
      "metadata": {
        "id": "_f41q6F73E93",
        "outputId": "738c3fe2-4cd4-4f96-a6d7-caa2acfee85f",
        "colab": {
          "base_uri": "https://localhost:8080/"
        }
      },
      "execution_count": null,
      "outputs": [
        {
          "output_type": "execute_result",
          "data": {
            "text/plain": [
              "6"
            ]
          },
          "metadata": {},
          "execution_count": 41
        }
      ]
    },
    {
      "cell_type": "code",
      "source": [],
      "metadata": {
        "id": "MulCwfy53S3A"
      },
      "execution_count": null,
      "outputs": []
    }
  ],
  "metadata": {
    "colab": {
      "name": "Colaboratory에 오신 것을 환영합니다",
      "provenance": [],
      "include_colab_link": true
    },
    "kernelspec": {
      "display_name": "Python 3",
      "name": "python3"
    }
  },
  "nbformat": 4,
  "nbformat_minor": 0
}