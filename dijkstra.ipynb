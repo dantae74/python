{
  "cells": [
    {
      "cell_type": "markdown",
      "metadata": {
        "id": "view-in-github",
        "colab_type": "text"
      },
      "source": [
        "<a href=\"https://colab.research.google.com/github/dantae74/python/blob/master/dijkstra.ipynb\" target=\"_parent\"><img src=\"https://colab.research.google.com/assets/colab-badge.svg\" alt=\"Open In Colab\"/></a>"
      ]
    },
    {
      "cell_type": "code",
      "source": [
        "'''\n",
        "1. 출발노드와 도착노드를 설정한다.\n",
        "2. '최단 거리 테이블'을 초기화한다.\n",
        "3. 현재 위치한 노드의 인접 노드중 방문하지 않은 노드중 거리가 가장 짧은 노드를 선택한다. 그 노드를 방문처리 한다.\n",
        "4. 해당 노드를 거쳐 다른 노드로 넘어가는 간선비용(가충치)을 계산해 '최단 거리 테이블'을 업데이트 한다.\n",
        "5. 3~4의 과정을 반복한다.\n",
        "'''\n",
        "\n",
        "INF = 10000001\n",
        "\n",
        "# 방문하지 않은 최소 거리 노드를 찾음\n",
        "def find_small_node(distance, visited):\n",
        "  global INF\n",
        "  min_dist = INF\n",
        "  min_idx = -1\n",
        "  for i, (dline, vline) in enumerate(zip(distance, visited)):\n",
        "    for j, (d, v) in enumerate(zip(dline, vline)):\n",
        "        if v == False and d < min_dist:\n",
        "          min_dist = d\n",
        "          min_idx = [i,j]\n",
        "\n",
        "  return min_idx, min_dist\n",
        "\n",
        "def is_valid_path(graph, pos, m):\n",
        "  if pos[0]+m[0] >= 0 and pos[0]+m[0] < 8 and pos[1]+m[1] >= 0 and pos[1]+m[1] < 8:\n",
        "    if graph[pos[0]+m[0]][pos[1]+m[1]] != '#': return True\n",
        "  return False\n",
        "\n",
        "def dijkstra(graph, start, stop):\n",
        "  global INF\n",
        "  visited = [[False for _ in range(8)] for _ in range(8)]\n",
        "  distance = [[INF for _ in range(8)] for _ in range(8)]\n",
        "\n",
        "  # start를 0 으로 초기화하고, 방문처리한다.\n",
        "  distance[start[0]][start[1]] = 0\n",
        "  visited[start[0]][start[1]] = True\n",
        "\n",
        "  while True:\n",
        "    # 최소거리노드 찾기\n",
        "    min_idx, min_dist = find_small_node(distance, visited)\n",
        "    if min_idx == -1: break\n",
        "\n",
        "    #방문처리\n",
        "    visited[min_idx[0]][min_idx[1]] = True\n",
        "\n",
        "    #인접노드 간선비용 계산 및 최단 거리 테이블 업데이트\n",
        "    # 우(0,1),하(1,0), 좌(0,-1), 상(-1,0) (좌표를 벗어나는지 and 숲인지 체크)\n",
        "    if (is_valid_path(graph, min_idx, [0,1])):\n",
        "        if distance[min_idx[0]][min_idx[1]+1] > distance[]\n",
        "\n",
        "\n",
        "\n",
        "\n",
        "\n",
        "\n",
        "\n",
        "\n",
        "\n",
        "\n",
        "def solution(graph):\n",
        "  start = [0,0]\n",
        "  xcalib = []\n",
        "  monster = []\n",
        "\n",
        "  # get xcalib and monster position\n",
        "  for i, line in enumerate(graph):\n",
        "    for j, c in enumerate(line):\n",
        "      if c == 'X':\n",
        "        xcalib = [i,j]\n",
        "      elif c == 'G':\n",
        "        monster = [i,j]\n",
        "\n",
        "  optimal_route, step = dijkstra(graph, start, xcalib):\n",
        "  print(\"xcalib optimal route:{}, step: {}\".format(optimal_route, step))\n",
        "\n",
        "  optimal_route, step = dijkstra(graph, xcalib, monster):\n",
        "  print(\"xcalib optimal route:{}, step: {}\".format(optimal_route, step))\n",
        "\n",
        "\n",
        "graph = [\"____####\", \"_#__####\", \"_#______\", \"###_____\", \"#####___\", \"________\", \"__####__\", \"X_####_G\"]\n"
      ],
      "metadata": {
        "id": "Ry-NFKscYR-7"
      },
      "execution_count": null,
      "outputs": []
    },
    {
      "cell_type": "code",
      "source": [
        "graph = [\"____####\", \"_#__####\", \"_#______\", \"###_____\", \"#####___\", \"________\", \"__####__\", \"X_####_G\"]\n",
        "\n",
        "for i, line in enumerate(graph):\n",
        "  for j, c in enumerate(line):\n",
        "    if c == 'X':\n",
        "      xcalib = [i,j]\n",
        "    elif c == 'G':\n",
        "      monster = [i, j]\n",
        "\n",
        "print(xcalib, monster)"
      ],
      "metadata": {
        "id": "OrjE7D8Pyke9",
        "outputId": "79bd6850-8f80-43ef-d386-aec0b3f10a3c",
        "colab": {
          "base_uri": "https://localhost:8080/"
        }
      },
      "execution_count": 3,
      "outputs": [
        {
          "output_type": "stream",
          "name": "stdout",
          "text": [
            "[7, 0] [7, 7]\n"
          ]
        }
      ]
    },
    {
      "cell_type": "code",
      "source": [
        "a = [[i+j for i in range(4)] for j in range(4)]\n",
        "b = [[i+j for i in range(4)] for j in range(4,8)]\n",
        "a\n",
        "b\n"
      ],
      "metadata": {
        "id": "ieHN_8wjzGy9",
        "outputId": "0fb71ea6-2e4f-443c-d0c4-3541126b0a72",
        "colab": {
          "base_uri": "https://localhost:8080/"
        }
      },
      "execution_count": 17,
      "outputs": [
        {
          "output_type": "execute_result",
          "data": {
            "text/plain": [
              "[[4, 5, 6, 7], [5, 6, 7, 8], [6, 7, 8, 9], [7, 8, 9, 10]]"
            ]
          },
          "metadata": {},
          "execution_count": 17
        }
      ]
    },
    {
      "cell_type": "code",
      "source": [
        "for i,(j,k) in enumerate(zip(a, b)):\n",
        "  print(i, j, k)"
      ],
      "metadata": {
        "id": "ziooCM-Z3glR",
        "outputId": "54ee37e8-0244-4086-9d62-fcc9a935804b",
        "colab": {
          "base_uri": "https://localhost:8080/"
        }
      },
      "execution_count": 20,
      "outputs": [
        {
          "output_type": "stream",
          "name": "stdout",
          "text": [
            "0 [0, 1, 2, 3] [4, 5, 6, 7]\n",
            "1 [1, 2, 3, 4] [5, 6, 7, 8]\n",
            "2 [2, 3, 4, 5] [6, 7, 8, 9]\n",
            "3 [3, 4, 5, 6] [7, 8, 9, 10]\n"
          ]
        }
      ]
    },
    {
      "cell_type": "code",
      "source": [
        "min_idx = -1\n",
        "min_idx = [1,1]"
      ],
      "metadata": {
        "id": "d5XHKQHWDGbD"
      },
      "execution_count": 21,
      "outputs": []
    },
    {
      "cell_type": "code",
      "source": [
        "min_idx"
      ],
      "metadata": {
        "id": "2I7QcBPxGG--",
        "outputId": "4de9b075-bf2f-4a88-bb2a-933a8b6ed1dd",
        "colab": {
          "base_uri": "https://localhost:8080/"
        }
      },
      "execution_count": 22,
      "outputs": [
        {
          "output_type": "execute_result",
          "data": {
            "text/plain": [
              "[1, 1]"
            ]
          },
          "metadata": {},
          "execution_count": 22
        }
      ]
    },
    {
      "cell_type": "code",
      "source": [],
      "metadata": {
        "id": "TfsixVw5GIEx"
      },
      "execution_count": null,
      "outputs": []
    }
  ],
  "metadata": {
    "colab": {
      "name": "Colaboratory에 오신 것을 환영합니다",
      "provenance": [],
      "include_colab_link": true
    },
    "kernelspec": {
      "display_name": "Python 3",
      "name": "python3"
    }
  },
  "nbformat": 4,
  "nbformat_minor": 0
}