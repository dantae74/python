{
  "cells": [
    {
      "cell_type": "markdown",
      "metadata": {
        "id": "view-in-github",
        "colab_type": "text"
      },
      "source": [
        "<a href=\"https://colab.research.google.com/github/dantae74/python/blob/master/donut_graph.ipynb\" target=\"_parent\"><img src=\"https://colab.research.google.com/assets/colab-badge.svg\" alt=\"Open In Colab\"/></a>"
      ]
    },
    {
      "cell_type": "code",
      "source": [
        "!pip install -Uqq ipdb\n",
        "import ipdb"
      ],
      "metadata": {
        "id": "WchiMrykOOUb"
      },
      "execution_count": null,
      "outputs": []
    },
    {
      "cell_type": "code",
      "source": [
        "%pdb on\n",
        "ipdb.set_trace(context=10)"
      ],
      "metadata": {
        "id": "bPi2FjmWOr5S"
      },
      "execution_count": null,
      "outputs": []
    },
    {
      "cell_type": "code",
      "source": [
        "def solution(edges):\n",
        "  도넛모양 = 0\n",
        "  막대모양 = 0\n",
        "  팔자모양 = 0\n",
        "  정점의수 = max(map(max, edges))\n",
        "\n",
        "  graphes = [ [[0,0]] for _ in range( 정점의수 + 1)]\n",
        "  visited = [False for _ in range(정점의수+1)]\n",
        "  visited[0] = True\n",
        "\n",
        "  for s, e in edges:\n",
        "    graphes[s].append([s,e])\n",
        "    s[0][1] += 1 // OUT 수 증가\n",
        "    e[0][0] += 1 // IN 수 증가\n",
        "\n",
        "  #1. 정점노드 찾기\n",
        "  for i, node in enumerate(graphes):\n",
        "    if node[0][0] == 0:\n",
        "      answer.append(i)\n",
        "      visited[i] = True\n",
        "\n",
        "  #1. 그래프 찾기\n",
        "  while (any(visited)):\n",
        "    for n in visited[1:]:\n",
        "      if n == False:\n",
        "\n",
        "\n",
        "\n",
        "  answer = []\n",
        "  return answer\n",
        "\n",
        "edges1 = [[2, 3], [4, 3], [1, 1], [2, 1]]\n",
        "edges2 = [[4, 11], [1, 12], [8, 3], [12, 7], [4, 2], [7, 11], [4, 8], [9, 6], [10, 11], [6, 10], [3, 5], [11, 1], [5, 3], [11, 9], [3, 8]]\n",
        "\n",
        "solution(edges1)"
      ],
      "metadata": {
        "id": "ktFYHuvH9QNx",
        "outputId": "f16946f0-ccd4-443e-8815-a0fc248714f4",
        "colab": {
          "base_uri": "https://localhost:8080/"
        }
      },
      "execution_count": 2,
      "outputs": [
        {
          "output_type": "stream",
          "name": "stdout",
          "text": [
            "[[[0, 0]], [[0, 0]], [[0, 0]], [[0, 0]], [[0, 0]]]\n",
            "graphes[1]=[[0, 0]]\n"
          ]
        },
        {
          "output_type": "execute_result",
          "data": {
            "text/plain": [
              "[]"
            ]
          },
          "metadata": {},
          "execution_count": 2
        }
      ]
    },
    {
      "cell_type": "code",
      "source": [
        "a = [[[0,1], [2,3]],[[4,5], [6,7]]]\n",
        "for i in a:\n",
        "  print(i[0])"
      ],
      "metadata": {
        "id": "WdX72Y2u-pPS",
        "outputId": "2ea08ddd-78a8-49a8-fe27-5d289f00de63",
        "colab": {
          "base_uri": "https://localhost:8080/"
        }
      },
      "execution_count": 5,
      "outputs": [
        {
          "output_type": "stream",
          "name": "stdout",
          "text": [
            "[0, 1]\n",
            "[4, 5]\n"
          ]
        }
      ]
    },
    {
      "cell_type": "code",
      "source": [],
      "metadata": {
        "id": "YISUp78v5hjH"
      },
      "execution_count": null,
      "outputs": []
    }
  ],
  "metadata": {
    "colab": {
      "name": "Colaboratory에 오신 것을 환영합니다",
      "provenance": [],
      "include_colab_link": true
    },
    "kernelspec": {
      "display_name": "Python 3",
      "name": "python3"
    }
  },
  "nbformat": 4,
  "nbformat_minor": 0
}