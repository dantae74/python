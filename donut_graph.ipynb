{
  "cells": [
    {
      "cell_type": "markdown",
      "metadata": {
        "id": "view-in-github",
        "colab_type": "text"
      },
      "source": [
        "<a href=\"https://colab.research.google.com/github/dantae74/python/blob/master/donut_graph.ipynb\" target=\"_parent\"><img src=\"https://colab.research.google.com/assets/colab-badge.svg\" alt=\"Open In Colab\"/></a>"
      ]
    },
    {
      "cell_type": "code",
      "source": [
        "!pip install -Uqq ipdb\n",
        "import ipdb"
      ],
      "metadata": {
        "id": "WchiMrykOOUb"
      },
      "execution_count": null,
      "outputs": []
    },
    {
      "cell_type": "code",
      "source": [
        "%pdb on\n",
        "ipdb.set_trace(context=10)"
      ],
      "metadata": {
        "id": "bPi2FjmWOr5S"
      },
      "execution_count": null,
      "outputs": []
    },
    {
      "cell_type": "code",
      "source": [
        "# id : 1 (도넛), 2 (막대), 3 (8자)\n",
        "def decision_graph(start, edges):\n",
        "  노드수 = 1\n",
        "  간선수 = 0\n",
        "  node = start\n",
        "\n",
        "  for [s, e] in edges:\n",
        "    if node in [s, e]:\n",
        "      간선수 += 1\n",
        "      if s == e:\n",
        "        break\n",
        "      elif s == node:\n",
        "        node = e\n",
        "        노드수 += 1\n",
        "      else:\n",
        "        node = s\n",
        "        노드수 += 1\n",
        "\n",
        "  if 노드수 == 간선수:\n",
        "    answer = 1\n",
        "  elif start == node:\n",
        "    answer = 3\n",
        "  else:\n",
        "    answer = 2\n",
        "\n",
        "  # print(f\"{간선수=}, {노드수=}, {start=}, {node=}, {answer=}\")\n",
        "  return answer\n",
        "\n",
        "\n",
        "\n",
        "def solution(edges):\n",
        "  도넛모양 = 0\n",
        "  막대모양 = 0\n",
        "  팔자모양 = 0\n",
        "  정점의수 = max(map(max, edges))\n",
        "\n",
        "  # 생성정점, 도넛, 막대, 8자\n",
        "  answer = [0, 0, 0, 0]\n",
        "\n",
        "  #1. 생성정점 찾기\n",
        "  NODES = [False for _ in range(정점의수 + 1)]\n",
        "  NODES[0] = True\n",
        "  for [s, e] in edges:\n",
        "    NODES[e] = True\n",
        "  생성노드 = NODES.index(False)\n",
        "\n",
        "  answer[0] = 생성노드\n",
        "\n",
        "  # print(f\"{NODES=}, {생성노드=}\")\n",
        "\n",
        "  # 생성노드와 그래프간 간선 구분\n",
        "  생성간선 = []\n",
        "  graphes = []\n",
        "  for [s, e] in edges:\n",
        "    if s == 생성노드:\n",
        "      생성간선.append([s, e])\n",
        "    else:\n",
        "      graphes.append([s,e])\n",
        "\n",
        "  # print(f\"{생성간선=}, {graphes=}\")\n",
        "\n",
        "  #2. 그래프 종류 결정\n",
        "  for [s, e] in 생성간선:\n",
        "    id = decision_graph(e, graphes)\n",
        "    answer[id] += 1\n",
        "\n",
        "  return answer\n",
        "\n",
        "\n",
        "edges1 = [[2, 3], [4, 3], [1, 1], [2, 1]]\n",
        "edges2 = [[4, 11], [1, 12], [8, 3], [12, 7], [4, 2], [7, 11], [4, 8], [9, 6], [10, 11], [6, 10], [3, 5], [11, 1], [5, 3], [11, 9], [3, 8]]\n",
        "\n",
        "print(solution(edges1))\n",
        "print(solution(edges2))"
      ],
      "metadata": {
        "id": "ktFYHuvH9QNx",
        "outputId": "bd029ba2-ea99-4806-a836-f8fb0cda3551",
        "colab": {
          "base_uri": "https://localhost:8080/"
        }
      },
      "execution_count": 13,
      "outputs": [
        {
          "output_type": "stream",
          "name": "stdout",
          "text": [
            "[2, 1, 1, 0]\n",
            "[4, 0, 1, 2]\n"
          ]
        }
      ]
    },
    {
      "cell_type": "code",
      "source": [],
      "metadata": {
        "id": "YISUp78v5hjH"
      },
      "execution_count": null,
      "outputs": []
    }
  ],
  "metadata": {
    "colab": {
      "name": "Colaboratory에 오신 것을 환영합니다",
      "provenance": [],
      "include_colab_link": true
    },
    "kernelspec": {
      "display_name": "Python 3",
      "name": "python3"
    }
  },
  "nbformat": 4,
  "nbformat_minor": 0
}