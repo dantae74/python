{
  "cells": [
    {
      "cell_type": "markdown",
      "metadata": {
        "id": "view-in-github",
        "colab_type": "text"
      },
      "source": [
        "<a href=\"https://colab.research.google.com/github/dantae74/python/blob/master/dice_selection.ipynb\" target=\"_parent\"><img src=\"https://colab.research.google.com/assets/colab-badge.svg\" alt=\"Open In Colab\"/></a>"
      ]
    },
    {
      "cell_type": "code",
      "source": [
        "from itertools import product\n",
        "from itertools import combinations\n",
        "\n",
        "def solution(dices, n, m):\n",
        "  # 1. dice 선택(combinations)\n",
        "  A_comb_dices = list(combinations(dices, n//2))\n",
        "\n",
        "  for A_dices in A_comb_dices:\n",
        "    print(f'{A_dices=}')\n",
        "\n",
        "    B_dices = []\n",
        "    for dice in dices:\n",
        "      for a_dice in A_dices:\n",
        "        print(f'{dice=}, {a_dice=}, {dice == a_dice}')\n",
        "        if dice != a_dice: B_dices.append(dice)\n",
        "\n",
        "    # print(f'{B_dices=}')\n",
        "\n",
        "\n",
        "\n",
        "dice = [[1, 2, 3, 4, 5, 6], [3, 3, 3, 3, 4, 4], [1, 3, 3, 4, 4, 4], [1, 1, 4, 4, 5, 5]]\n",
        "# dice = [[1, 2, 3, 4, 5, 6], [2, 2, 4, 4, 6, 6]]\n",
        "solution(dice,len(dice), len(dice[0]))\n"
      ],
      "metadata": {
        "colab": {
          "base_uri": "https://localhost:8080/"
        },
        "id": "jxTxWCLoC70u",
        "outputId": "fc4dab8c-3837-453f-fdad-e19e2603ff69"
      },
      "execution_count": 18,
      "outputs": [
        {
          "output_type": "stream",
          "name": "stdout",
          "text": [
            "A_dices=([1, 2, 3, 4, 5, 6], [3, 3, 3, 3, 4, 4])\n",
            "dice=[1, 2, 3, 4, 5, 6], a_dice=[1, 2, 3, 4, 5, 6], True\n",
            "dice=[1, 2, 3, 4, 5, 6], a_dice=[3, 3, 3, 3, 4, 4], False\n",
            "dice=[3, 3, 3, 3, 4, 4], a_dice=[1, 2, 3, 4, 5, 6], False\n",
            "dice=[3, 3, 3, 3, 4, 4], a_dice=[3, 3, 3, 3, 4, 4], True\n",
            "dice=[1, 3, 3, 4, 4, 4], a_dice=[1, 2, 3, 4, 5, 6], False\n",
            "dice=[1, 3, 3, 4, 4, 4], a_dice=[3, 3, 3, 3, 4, 4], False\n",
            "dice=[1, 1, 4, 4, 5, 5], a_dice=[1, 2, 3, 4, 5, 6], False\n",
            "dice=[1, 1, 4, 4, 5, 5], a_dice=[3, 3, 3, 3, 4, 4], False\n",
            "A_dices=([1, 2, 3, 4, 5, 6], [1, 3, 3, 4, 4, 4])\n",
            "dice=[1, 2, 3, 4, 5, 6], a_dice=[1, 2, 3, 4, 5, 6], True\n",
            "dice=[1, 2, 3, 4, 5, 6], a_dice=[1, 3, 3, 4, 4, 4], False\n",
            "dice=[3, 3, 3, 3, 4, 4], a_dice=[1, 2, 3, 4, 5, 6], False\n",
            "dice=[3, 3, 3, 3, 4, 4], a_dice=[1, 3, 3, 4, 4, 4], False\n",
            "dice=[1, 3, 3, 4, 4, 4], a_dice=[1, 2, 3, 4, 5, 6], False\n",
            "dice=[1, 3, 3, 4, 4, 4], a_dice=[1, 3, 3, 4, 4, 4], True\n",
            "dice=[1, 1, 4, 4, 5, 5], a_dice=[1, 2, 3, 4, 5, 6], False\n",
            "dice=[1, 1, 4, 4, 5, 5], a_dice=[1, 3, 3, 4, 4, 4], False\n",
            "A_dices=([1, 2, 3, 4, 5, 6], [1, 1, 4, 4, 5, 5])\n",
            "dice=[1, 2, 3, 4, 5, 6], a_dice=[1, 2, 3, 4, 5, 6], True\n",
            "dice=[1, 2, 3, 4, 5, 6], a_dice=[1, 1, 4, 4, 5, 5], False\n",
            "dice=[3, 3, 3, 3, 4, 4], a_dice=[1, 2, 3, 4, 5, 6], False\n",
            "dice=[3, 3, 3, 3, 4, 4], a_dice=[1, 1, 4, 4, 5, 5], False\n",
            "dice=[1, 3, 3, 4, 4, 4], a_dice=[1, 2, 3, 4, 5, 6], False\n",
            "dice=[1, 3, 3, 4, 4, 4], a_dice=[1, 1, 4, 4, 5, 5], False\n",
            "dice=[1, 1, 4, 4, 5, 5], a_dice=[1, 2, 3, 4, 5, 6], False\n",
            "dice=[1, 1, 4, 4, 5, 5], a_dice=[1, 1, 4, 4, 5, 5], True\n",
            "A_dices=([3, 3, 3, 3, 4, 4], [1, 3, 3, 4, 4, 4])\n",
            "dice=[1, 2, 3, 4, 5, 6], a_dice=[3, 3, 3, 3, 4, 4], False\n",
            "dice=[1, 2, 3, 4, 5, 6], a_dice=[1, 3, 3, 4, 4, 4], False\n",
            "dice=[3, 3, 3, 3, 4, 4], a_dice=[3, 3, 3, 3, 4, 4], True\n",
            "dice=[3, 3, 3, 3, 4, 4], a_dice=[1, 3, 3, 4, 4, 4], False\n",
            "dice=[1, 3, 3, 4, 4, 4], a_dice=[3, 3, 3, 3, 4, 4], False\n",
            "dice=[1, 3, 3, 4, 4, 4], a_dice=[1, 3, 3, 4, 4, 4], True\n",
            "dice=[1, 1, 4, 4, 5, 5], a_dice=[3, 3, 3, 3, 4, 4], False\n",
            "dice=[1, 1, 4, 4, 5, 5], a_dice=[1, 3, 3, 4, 4, 4], False\n",
            "A_dices=([3, 3, 3, 3, 4, 4], [1, 1, 4, 4, 5, 5])\n",
            "dice=[1, 2, 3, 4, 5, 6], a_dice=[3, 3, 3, 3, 4, 4], False\n",
            "dice=[1, 2, 3, 4, 5, 6], a_dice=[1, 1, 4, 4, 5, 5], False\n",
            "dice=[3, 3, 3, 3, 4, 4], a_dice=[3, 3, 3, 3, 4, 4], True\n",
            "dice=[3, 3, 3, 3, 4, 4], a_dice=[1, 1, 4, 4, 5, 5], False\n",
            "dice=[1, 3, 3, 4, 4, 4], a_dice=[3, 3, 3, 3, 4, 4], False\n",
            "dice=[1, 3, 3, 4, 4, 4], a_dice=[1, 1, 4, 4, 5, 5], False\n",
            "dice=[1, 1, 4, 4, 5, 5], a_dice=[3, 3, 3, 3, 4, 4], False\n",
            "dice=[1, 1, 4, 4, 5, 5], a_dice=[1, 1, 4, 4, 5, 5], True\n",
            "A_dices=([1, 3, 3, 4, 4, 4], [1, 1, 4, 4, 5, 5])\n",
            "dice=[1, 2, 3, 4, 5, 6], a_dice=[1, 3, 3, 4, 4, 4], False\n",
            "dice=[1, 2, 3, 4, 5, 6], a_dice=[1, 1, 4, 4, 5, 5], False\n",
            "dice=[3, 3, 3, 3, 4, 4], a_dice=[1, 3, 3, 4, 4, 4], False\n",
            "dice=[3, 3, 3, 3, 4, 4], a_dice=[1, 1, 4, 4, 5, 5], False\n",
            "dice=[1, 3, 3, 4, 4, 4], a_dice=[1, 3, 3, 4, 4, 4], True\n",
            "dice=[1, 3, 3, 4, 4, 4], a_dice=[1, 1, 4, 4, 5, 5], False\n",
            "dice=[1, 1, 4, 4, 5, 5], a_dice=[1, 3, 3, 4, 4, 4], False\n",
            "dice=[1, 1, 4, 4, 5, 5], a_dice=[1, 1, 4, 4, 5, 5], True\n"
          ]
        }
      ]
    },
    {
      "cell_type": "code",
      "source": [
        "from itertools import product\n",
        "from itertools import combinations\n",
        "\n",
        "dice = [[1, 2, 3, 4, 5, 6], [3, 3, 3, 3, 4, 4], [1, 3, 3, 4, 4, 4], [1, 1, 4, 4, 5, 5]]\n",
        "\n",
        "pd = list(combinations(dice, 2))\n",
        "\n",
        "# _list = [\"012\", \"abc\", \"!@#\"]\n",
        "# pd = list(product(*_list))\n",
        "print(pd)"
      ],
      "metadata": {
        "id": "zoVDj_4yEUso",
        "outputId": "10040076-7b88-4b51-e1c1-efae1d3610f5",
        "colab": {
          "base_uri": "https://localhost:8080/"
        }
      },
      "execution_count": 7,
      "outputs": [
        {
          "output_type": "stream",
          "name": "stdout",
          "text": [
            "[([1, 2, 3, 4, 5, 6], [3, 3, 3, 3, 4, 4]), ([1, 2, 3, 4, 5, 6], [1, 3, 3, 4, 4, 4]), ([1, 2, 3, 4, 5, 6], [1, 1, 4, 4, 5, 5]), ([3, 3, 3, 3, 4, 4], [1, 3, 3, 4, 4, 4]), ([3, 3, 3, 3, 4, 4], [1, 1, 4, 4, 5, 5]), ([1, 3, 3, 4, 4, 4], [1, 1, 4, 4, 5, 5])]\n"
          ]
        }
      ]
    },
    {
      "cell_type": "code",
      "source": [
        "print(*_list)"
      ],
      "metadata": {
        "id": "9Y2G5zDkgoA9",
        "outputId": "26dec69f-2955-412c-9906-dcd37a6c96f9",
        "colab": {
          "base_uri": "https://localhost:8080/"
        }
      },
      "execution_count": 5,
      "outputs": [
        {
          "output_type": "stream",
          "name": "stdout",
          "text": [
            "012 abc !@#\n"
          ]
        }
      ]
    },
    {
      "cell_type": "code",
      "source": [
        "print(_list)"
      ],
      "metadata": {
        "id": "FtmSUBoHu3Oc",
        "outputId": "0d7e96c7-35b4-4988-fbeb-f66688137844",
        "colab": {
          "base_uri": "https://localhost:8080/"
        }
      },
      "execution_count": 6,
      "outputs": [
        {
          "output_type": "stream",
          "name": "stdout",
          "text": [
            "['012', 'abc', '!@#']\n"
          ]
        }
      ]
    },
    {
      "cell_type": "code",
      "source": [],
      "metadata": {
        "id": "gure3BUju6Ap"
      },
      "execution_count": null,
      "outputs": []
    }
  ],
  "metadata": {
    "colab": {
      "name": "Colaboratory에 오신 것을 환영합니다",
      "provenance": [],
      "include_colab_link": true
    },
    "kernelspec": {
      "display_name": "Python 3",
      "name": "python3"
    }
  },
  "nbformat": 4,
  "nbformat_minor": 0
}