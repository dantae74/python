{
  "cells": [
    {
      "cell_type": "markdown",
      "metadata": {
        "id": "view-in-github",
        "colab_type": "text"
      },
      "source": [
        "<a href=\"https://colab.research.google.com/github/dantae74/python/blob/master/dice_selection.ipynb\" target=\"_parent\"><img src=\"https://colab.research.google.com/assets/colab-badge.svg\" alt=\"Open In Colab\"/></a>"
      ]
    },
    {
      "cell_type": "code",
      "source": [
        "def combinations(array, r):\n",
        "  for i in range(len(array)):\n",
        "    if r == 1: # 종료 조건\n",
        "        yield [array[i]]\n",
        "    else:\n",
        "        for next in combinations(array[i+1:], r-1):\n",
        "            yield [array[i]] + next\n",
        "\n",
        "\n",
        "def solution(dice, n, m):\n",
        "  # 1. dice 선택(combinations)\n",
        "  dice_idxs = [i for i in range(n)]\n",
        "  for c in combinations(dice_idxs, len(dice_idxs)//2):\n",
        "    A_dice_sum = []\n",
        "    B_dice_sum = []\n",
        "    for i in c:\n",
        "\n",
        "    calculate_victory_or_defeat(A_dice_sum, B_dice_sum)\n",
        "\n",
        "# dice = [[1, 2, 3, 4, 5, 6], [3, 3, 3, 3, 4, 4], [1, 3, 3, 4, 4, 4], [1, 1, 4, 4, 5, 5]]\n",
        "dice = [[1, 2, 3, 4, 5, 6], [2, 2, 4, 4, 6, 6]]\n",
        "solution(dice,len(dice), len(dice[0]))\n",
        "\n",
        "\n",
        "\n",
        "\n"
      ],
      "metadata": {
        "colab": {
          "base_uri": "https://localhost:8080/"
        },
        "id": "jxTxWCLoC70u",
        "outputId": "0e1700dd-ee76-4c64-a42b-941faca2b7e5"
      },
      "execution_count": 5,
      "outputs": [
        {
          "output_type": "stream",
          "name": "stdout",
          "text": [
            "[0]\n",
            "[1]\n"
          ]
        }
      ]
    },
    {
      "cell_type": "code",
      "source": [
        "a = [i for i in range(4)]\n",
        "a"
      ],
      "metadata": {
        "id": "zoVDj_4yEUso",
        "outputId": "79d31cdf-ad9c-4e91-bbc1-9c8efcd7daa7",
        "colab": {
          "base_uri": "https://localhost:8080/"
        }
      },
      "execution_count": 1,
      "outputs": [
        {
          "output_type": "execute_result",
          "data": {
            "text/plain": [
              "[0, 1, 2, 3]"
            ]
          },
          "metadata": {},
          "execution_count": 1
        }
      ]
    },
    {
      "cell_type": "code",
      "source": [],
      "metadata": {
        "id": "9Y2G5zDkgoA9"
      },
      "execution_count": null,
      "outputs": []
    }
  ],
  "metadata": {
    "colab": {
      "name": "Colaboratory에 오신 것을 환영합니다",
      "provenance": [],
      "include_colab_link": true
    },
    "kernelspec": {
      "display_name": "Python 3",
      "name": "python3"
    }
  },
  "nbformat": 4,
  "nbformat_minor": 0
}