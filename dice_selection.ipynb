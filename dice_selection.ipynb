{
  "cells": [
    {
      "cell_type": "markdown",
      "metadata": {
        "id": "view-in-github",
        "colab_type": "text"
      },
      "source": [
        "<a href=\"https://colab.research.google.com/github/dantae74/python/blob/master/dice_selection.ipynb\" target=\"_parent\"><img src=\"https://colab.research.google.com/assets/colab-badge.svg\" alt=\"Open In Colab\"/></a>"
      ]
    },
    {
      "cell_type": "code",
      "source": [
        "from itertools import product\n",
        "from itertools import combinations\n",
        "\n",
        "result = {}\n",
        "\n",
        "def calculate_victory_or_defeat(A_sum, B_sum, A_dice_idx):\n",
        "  pass\n",
        "\n",
        "def solution(dices, n, m):\n",
        "  # 1. dice 선택(combinations)\n",
        "  dice_idxs = [i for i in range(n)]\n",
        "  A_comb_dice_idxs = list(combinations(dice_idxs, n//2))\n",
        "  # print(A_comb_dice_idxs)\n",
        "\n",
        "  for A_dice_idxs in A_comb_dice_idxs:\n",
        "    A_dices = []\n",
        "    B_dices = []\n",
        "    # A_cartesian_product = []\n",
        "    # B_cartesian_product = []\n",
        "    B_dice_idxs = []\n",
        "    for dice_idx in dice_idxs:\n",
        "      if dice_idx not in A_dice_idxs: B_dice_idxs.append(dice_idx)\n",
        "\n",
        "    for A_dice_idx in A_dice_idxs:\n",
        "      A_dices.append(dices[A_dice_idx])\n",
        "\n",
        "    for B_dice_idx in B_dice_idxs:\n",
        "      B_dices.append(dices[B_dice_idx])\n",
        "\n",
        "    # print(f'{A_dices=}, {B_dices=}')\n",
        "\n",
        "    A_cartesian_product = list(product(*A_dices))\n",
        "    B_cartesian_product = list(product(*B_dices))\n",
        "\n",
        "    # print(f'{A_cartesian_product=}, {B_cartesian_product=}')\n",
        "\n",
        "    A_cartesian_product_sum = [sum(a) for a in A_cartesian_product]\n",
        "    B_cartesian_product_sum = [sum(b) for b in B_cartesian_product]\n",
        "\n",
        "    # print(f'{A_cartesian_product_sum=}, {B_cartesian_product_sum=}')\n",
        "\n",
        "    A_cartesian_product_sum.sort()\n",
        "    B_cartesian_product_sum.sort()\n",
        "\n",
        "    calculate_victory_or_defeat(A_cartesian_product_sum, B_cartesian_product_sum, A_dice_idx)\n",
        "\n",
        "  high_key = \"\"\n",
        "  high_winning_percentage = 0\n",
        "  for k, v in result:\n",
        "    if v[0]/(v[0] + v[1] +v[2]) > high_winning_percentage:\n",
        "      high_winning_percentage = v[0]/(v[0] + v[1] +v[2])\n",
        "      high_key = key\n",
        "\n",
        "  print(f'{high_key=}')\n",
        "\n",
        "\n",
        "dice = [[1, 2, 3, 4, 5, 6], [3, 3, 3, 3, 4, 4], [1, 3, 3, 4, 4, 4], [1, 1, 4, 4, 5, 5]]\n",
        "# dice = [[1, 2, 3, 4, 5, 6], [2, 2, 4, 4, 6, 6]]\n",
        "solution(dice,len(dice), len(dice[0]))\n"
      ],
      "metadata": {
        "colab": {
          "base_uri": "https://localhost:8080/"
        },
        "id": "jxTxWCLoC70u",
        "outputId": "453129c8-4516-4819-dae9-650c638c51b8"
      },
      "execution_count": 18,
      "outputs": [
        {
          "output_type": "stream",
          "name": "stdout",
          "text": [
            "[(0, 1), (0, 2), (0, 3), (1, 2), (1, 3), (2, 3)]\n",
            "high_key=''\n"
          ]
        }
      ]
    },
    {
      "cell_type": "code",
      "source": [
        "from itertools import product\n",
        "from itertools import combinations\n",
        "\n",
        "dice = [[1, 2, 3, 4, 5, 6], [3, 3, 3, 3, 4, 4], [1, 3, 3, 4, 4, 4], [1, 1, 4, 4, 5, 5]]\n",
        "# pd = list(combinations(dice, 2))\n",
        "\n",
        "# # _list = [\"012\", \"abc\", \"!@#\"]\n",
        "# # pd = list(product(*_list))\n",
        "# print(pd)\n",
        "\n",
        "dice_idxs = [0, 1, 2, 3]\n",
        "print(0 not in dice_idxs)"
      ],
      "metadata": {
        "id": "zoVDj_4yEUso",
        "outputId": "a5aa3996-e0dd-4fe5-b8dc-bcb756765ec5",
        "colab": {
          "base_uri": "https://localhost:8080/"
        }
      },
      "execution_count": 6,
      "outputs": [
        {
          "output_type": "stream",
          "name": "stdout",
          "text": [
            "False\n"
          ]
        }
      ]
    },
    {
      "cell_type": "code",
      "source": [
        "sum([1,1])"
      ],
      "metadata": {
        "id": "9Y2G5zDkgoA9",
        "colab": {
          "base_uri": "https://localhost:8080/"
        },
        "outputId": "0cbfc561-b679-45b5-9e80-5b8cec67a510"
      },
      "execution_count": 11,
      "outputs": [
        {
          "output_type": "execute_result",
          "data": {
            "text/plain": [
              "2"
            ]
          },
          "metadata": {},
          "execution_count": 11
        }
      ]
    },
    {
      "cell_type": "code",
      "source": [
        "print(_list)"
      ],
      "metadata": {
        "colab": {
          "base_uri": "https://localhost:8080/"
        },
        "id": "FtmSUBoHu3Oc",
        "outputId": "0d7e96c7-35b4-4988-fbeb-f66688137844"
      },
      "execution_count": 6,
      "outputs": [
        {
          "output_type": "stream",
          "name": "stdout",
          "text": [
            "['012', 'abc', '!@#']\n"
          ]
        }
      ]
    },
    {
      "cell_type": "code",
      "source": [],
      "metadata": {
        "id": "gure3BUju6Ap"
      },
      "execution_count": null,
      "outputs": []
    }
  ],
  "metadata": {
    "colab": {
      "name": "Colaboratory에 오신 것을 환영합니다",
      "provenance": [],
      "include_colab_link": true
    },
    "kernelspec": {
      "display_name": "Python 3",
      "name": "python3"
    }
  },
  "nbformat": 4,
  "nbformat_minor": 0
}