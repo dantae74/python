{
  "cells": [
    {
      "cell_type": "markdown",
      "metadata": {
        "id": "view-in-github",
        "colab_type": "text"
      },
      "source": [
        "<a href=\"https://colab.research.google.com/github/dantae74/python/blob/master/dice_selection.ipynb\" target=\"_parent\"><img src=\"https://colab.research.google.com/assets/colab-badge.svg\" alt=\"Open In Colab\"/></a>"
      ]
    },
    {
      "cell_type": "code",
      "source": [
        "from itertools import product\n",
        "from itertools import combinations\n",
        "\n",
        "result = {}\n",
        "\n",
        "def calculate_victory_or_defeat(A_sums, B_sums, A_dice_idx):\n",
        "  victory = 0\n",
        "  tie = 0\n",
        "  defeat = 0\n",
        "\n",
        "  for A_sum in A_sums:\n",
        "    idx = len(B_sums) // 2\n",
        "    start = 0\n",
        "    end = len(B_sums)\n",
        "\n",
        "    while True:\n",
        "      print(f'{A_sum=}, {idx=}, {B_sums[idx]=}, {start=}, {end=}')\n",
        "      if A_sum == B_sums[idx] or start == end:\n",
        "        break\n",
        "      elif A_sum > B_sums[idx]:\n",
        "        start = idx\n",
        "        idx = (end - start) // 2\n",
        "      elif A_sum < B_sums[idx]:\n",
        "        end = idx\n",
        "        idx = (end - start) // 2\n",
        "\n",
        "    for i in range(idx-1, -1, -1):\n",
        "      if A_sum == B_sums[i]:\n",
        "        tie += 1\n",
        "      else:\n",
        "        victory = i + 1\n",
        "        break\n",
        "\n",
        "    print(f'{idx=}')\n",
        "    print(f'{B_sums[idx]=}')\n",
        "\n",
        "    for i in range(idx, len(B_sums)):\n",
        "      if A_sum == B_sums[i]:\n",
        "        tie += 1\n",
        "      else:\n",
        "        defeat = len(B_sums) - i\n",
        "        break\n",
        "\n",
        "  result[str(A_dice_idx)] = [victory, tie, defeat]\n",
        "  print(f'{result=}')\n",
        "\n",
        "def solution(dices, n, m):\n",
        "  # 1. dice 선택(combinations)\n",
        "  dice_idxs = [i for i in range(n)]\n",
        "  A_comb_dice_idxs = list(combinations(dice_idxs, n//2))\n",
        "  # print(A_comb_dice_idxs)\n",
        "\n",
        "  for A_dice_idxs in A_comb_dice_idxs:\n",
        "    A_dices = []\n",
        "    B_dices = []\n",
        "    # A_cartesian_product = []\n",
        "    # B_cartesian_product = []\n",
        "    B_dice_idxs = []\n",
        "    for dice_idx in dice_idxs:\n",
        "      if dice_idx not in A_dice_idxs: B_dice_idxs.append(dice_idx)\n",
        "\n",
        "    for A_dice_idx in A_dice_idxs:\n",
        "      A_dices.append(dices[A_dice_idx])\n",
        "\n",
        "    for B_dice_idx in B_dice_idxs:\n",
        "      B_dices.append(dices[B_dice_idx])\n",
        "\n",
        "    # print(f'{A_dices=}, {B_dices=}')\n",
        "\n",
        "    A_cartesian_product = list(product(*A_dices))\n",
        "    B_cartesian_product = list(product(*B_dices))\n",
        "\n",
        "    # print(f'{A_cartesian_product=}, {B_cartesian_product=}')\n",
        "\n",
        "    A_cartesian_product_sum = [sum(a) for a in A_cartesian_product]\n",
        "    B_cartesian_product_sum = [sum(b) for b in B_cartesian_product]\n",
        "\n",
        "    # print(f'{A_cartesian_product_sum=}, {B_cartesian_product_sum=}')\n",
        "\n",
        "    A_cartesian_product_sum.sort()\n",
        "    B_cartesian_product_sum.sort()\n",
        "\n",
        "    calculate_victory_or_defeat(A_cartesian_product_sum, B_cartesian_product_sum, A_dice_idx)\n",
        "\n",
        "  high_key = \"\"\n",
        "  high_winning_percentage = 0\n",
        "  for k, v in result:\n",
        "    if v[0]/(v[0] + v[1] +v[2]) > high_winning_percentage:\n",
        "      high_winning_percentage = v[0]/(v[0] + v[1] +v[2])\n",
        "      high_key = key\n",
        "\n",
        "  print(f'{high_key=}')\n",
        "\n",
        "\n",
        "dice = [[1, 2, 3, 4, 5, 6], [3, 3, 3, 3, 4, 4], [1, 3, 3, 4, 4, 4], [1, 1, 4, 4, 5, 5]]\n",
        "# dice = [[1, 2, 3, 4, 5, 6], [2, 2, 4, 4, 6, 6]]\n",
        "solution(dice,len(dice), len(dice[0]))\n"
      ],
      "metadata": {
        "id": "jxTxWCLoC70u"
      },
      "execution_count": null,
      "outputs": []
    },
    {
      "cell_type": "code",
      "source": [
        "from itertools import product\n",
        "from itertools import combinations\n",
        "\n",
        "dice = [[1, 2, 3, 4, 5, 6], [3, 3, 3, 3, 4, 4], [1, 3, 3, 4, 4, 4], [1, 1, 4, 4, 5, 5]]\n",
        "# pd = list(combinations(dice, 2))\n",
        "\n",
        "# # _list = [\"012\", \"abc\", \"!@#\"]\n",
        "# # pd = list(product(*_list))\n",
        "# print(pd)\n",
        "\n",
        "dice_idxs = [0, 1, 2, 3]\n",
        "print(0 not in dice_idxs)"
      ],
      "metadata": {
        "id": "zoVDj_4yEUso"
      },
      "execution_count": null,
      "outputs": []
    },
    {
      "cell_type": "code",
      "source": [
        "a = 1\n",
        "b = 2\n",
        "c = 3\n",
        "d = [a, b, c]\n",
        "d"
      ],
      "metadata": {
        "id": "9Y2G5zDkgoA9"
      },
      "execution_count": null,
      "outputs": []
    },
    {
      "cell_type": "code",
      "source": [
        "print(_list)"
      ],
      "metadata": {
        "id": "FtmSUBoHu3Oc"
      },
      "execution_count": null,
      "outputs": []
    },
    {
      "cell_type": "code",
      "source": [
        "a = {}\n",
        "a[str([1,2])] = 1\n",
        "a"
      ],
      "metadata": {
        "id": "gure3BUju6Ap"
      },
      "execution_count": null,
      "outputs": []
    },
    {
      "cell_type": "code",
      "source": [
        "str([1,2])"
      ],
      "metadata": {
        "id": "z0DfoCXtTdsY"
      },
      "execution_count": null,
      "outputs": []
    },
    {
      "cell_type": "code",
      "source": [],
      "metadata": {
        "id": "fvF9S59BToZJ"
      },
      "execution_count": null,
      "outputs": []
    }
  ],
  "metadata": {
    "colab": {
      "name": "Colaboratory에 오신 것을 환영합니다",
      "provenance": [],
      "include_colab_link": true
    },
    "kernelspec": {
      "display_name": "Python 3",
      "name": "python3"
    }
  },
  "nbformat": 4,
  "nbformat_minor": 0
}