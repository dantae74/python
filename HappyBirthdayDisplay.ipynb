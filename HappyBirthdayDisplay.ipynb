{
  "cells": [
    {
      "cell_type": "markdown",
      "metadata": {
        "id": "view-in-github",
        "colab_type": "text"
      },
      "source": [
        "<a href=\"https://colab.research.google.com/github/dantae74/python/blob/master/HappyBirthdayDisplay.ipynb\" target=\"_parent\"><img src=\"https://colab.research.google.com/assets/colab-badge.svg\" alt=\"Open In Colab\"/></a>"
      ]
    },
    {
      "cell_type": "code",
      "source": [
        "def solution(phrases, second):\n",
        "    display = '_' * 14 + phrases\n",
        "\n",
        "    for i in range(second):\n",
        "        display = display[1:] + display[0]\n",
        "\n",
        "    return display[:14]\n",
        "\n",
        "Phrases1 = \"Happy Birthday\"\n",
        "second1 = 3\n",
        "\n",
        "ret1 = solution(Phrases1, second1)\n",
        "print(\"{}\".format(ret1))\n",
        "\n"
      ],
      "metadata": {
        "id": "XKwoc9aMhEsP",
        "outputId": "5d5b6557-b9b0-43d4-f600-820ef13bb022",
        "colab": {
          "base_uri": "https://localhost:8080/"
        }
      },
      "execution_count": 66,
      "outputs": [
        {
          "output_type": "stream",
          "name": "stdout",
          "text": [
            "___________Hap\n"
          ]
        }
      ]
    },
    {
      "cell_type": "code",
      "source": [
        "Phrases1 = \"Happy Birthday\"\n",
        "Phrases1[1]"
      ],
      "metadata": {
        "id": "Af5N9tjmoNkT",
        "outputId": "7d29bc3b-25e9-4a27-a4a8-dd0d2a19015a",
        "colab": {
          "base_uri": "https://localhost:8080/",
          "height": 35
        }
      },
      "execution_count": 14,
      "outputs": [
        {
          "output_type": "execute_result",
          "data": {
            "text/plain": [
              "'a'"
            ],
            "application/vnd.google.colaboratory.intrinsic+json": {
              "type": "string"
            }
          },
          "metadata": {},
          "execution_count": 14
        }
      ]
    },
    {
      "cell_type": "code",
      "source": [],
      "metadata": {
        "id": "S4Fz-MlIpNfk"
      },
      "execution_count": null,
      "outputs": []
    }
  ],
  "metadata": {
    "colab": {
      "name": "Colaboratory에 오신 것을 환영합니다",
      "provenance": [],
      "include_colab_link": true
    },
    "kernelspec": {
      "display_name": "Python 3",
      "name": "python3"
    }
  },
  "nbformat": 4,
  "nbformat_minor": 0
}