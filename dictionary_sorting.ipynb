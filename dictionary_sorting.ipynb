{
  "cells": [
    {
      "cell_type": "markdown",
      "metadata": {
        "id": "view-in-github",
        "colab_type": "text"
      },
      "source": [
        "<a href=\"https://colab.research.google.com/github/dantae74/python/blob/master/dictionary_sorting.ipynb\" target=\"_parent\"><img src=\"https://colab.research.google.com/assets/colab-badge.svg\" alt=\"Open In Colab\"/></a>"
      ]
    },
    {
      "cell_type": "code",
      "source": [
        "!pip install -Uqq ipdb\n",
        "import ipdb"
      ],
      "metadata": {
        "id": "WchiMrykOOUb"
      },
      "execution_count": null,
      "outputs": []
    },
    {
      "cell_type": "code",
      "source": [
        "%pdb off\n",
        "# ipdb.set_trace(context=10)"
      ],
      "metadata": {
        "id": "bPi2FjmWOr5S"
      },
      "execution_count": null,
      "outputs": []
    },
    {
      "cell_type": "code",
      "source": [
        "citystrings = [\"Charleston,WV,38.35,81.63\",\n",
        "              \"Charlotte,NC,35.23,80.83\",\n",
        "              \"Cheyenne,WY,41.15,104.87\",\n",
        "              \"Chicago,IL,41.83,87.62\",\n",
        "              \"Cincinnati,OH,39.13,84.50\",\n",
        "              \"Cleveland,OH,41.47,81.62\",\n",
        "              \"Columbia,SC,34.00,81.03\",\n",
        "              \"Columbus,OH,40.00,83.02\",\n",
        "              \"Dallas,TX,32.77,96.77\",\n",
        "              \"Denver,CO,39.75,105.00\"]\n",
        "\n",
        "\n",
        "strings = citystrings[0].split(',')\n",
        "strings"
      ],
      "metadata": {
        "colab": {
          "base_uri": "https://localhost:8080/"
        },
        "id": "AbXRirr-vLuf",
        "outputId": "18d14311-daef-4c2f-9de6-411b6acec9c0"
      },
      "execution_count": 32,
      "outputs": [
        {
          "output_type": "execute_result",
          "data": {
            "text/plain": [
              "['Charleston', 'WV', '38.35', '81.63']"
            ]
          },
          "metadata": {},
          "execution_count": 32
        }
      ]
    },
    {
      "cell_type": "code",
      "source": [
        "class City:\n",
        "    def __init__(self, string):\n",
        "        self._string = string.split(',')\n",
        "        self._name = self._string[0]\n",
        "        self._state = self._string[1]\n",
        "        self._latitude = self._string[2]\n",
        "        self._longitude = self._string[3]\n",
        "        self._location = [self._latitude, self._longitude]\n",
        "\n",
        "    def name(self):\n",
        "        return self._name\n",
        "\n",
        "    def location(self):\n",
        "        return self._location\n",
        "        self.hand.sort(key=lambda x: x.longitude)\n",
        "\n",
        "    def __lt__(self, other):\n",
        "        if self._longitude < other._longitude:\n",
        "            return True\n",
        "        if self._longitude > other._longitude:\n",
        "            return False\n",
        "        if self._longitude == other._longitude:\n",
        "            if self._latitude < other._latitude:\n",
        "                return True\n",
        "            if self._latitude > other._latitude:\n",
        "                return False\n",
        "\n",
        "citystrings = [\"Charleston,WV,38.35,81.63\",\n",
        "              \"Charlotte,NC,35.23,80.83\",\n",
        "              \"Cheyenne,WY,41.15,104.87\",\n",
        "              \"Chicago,IL,41.83,87.62\",\n",
        "              \"Cincinnati,OH,39.13,84.50\",\n",
        "              \"Cleveland,OH,41.47,81.62\",\n",
        "              \"Columbia,SC,34.00,81.03\",\n",
        "              \"Columbus,OH,40.00,83.02\",\n",
        "              \"Dallas,TX,32.77,96.77\",\n",
        "              \"Denver,CO,39.75,105.00\"]\n",
        "westtoeastnames = [\n",
        "            \"Denver\",\n",
        "            \"Cheyenne\",\n",
        "            \"Dallas\",\n",
        "            \"Chicago\",\n",
        "            \"Cincinnati\",\n",
        "            \"Columbus\",\n",
        "            \"Charleston\",\n",
        "            \"Cleveland\",\n",
        "            \"Columbia\",\n",
        "            \"Charlotte\",\n",
        "          ]\n",
        "cities = [City(s) for s in citystrings]\n",
        "cities.sort()\n",
        "sortednames = [c.name() for c in cities]\n",
        "print(sortednames)\n",
        "print(westtoeastnames)"
      ],
      "metadata": {
        "colab": {
          "base_uri": "https://localhost:8080/"
        },
        "id": "tDLQRyjo_W7V",
        "outputId": "0cb1b340-3c90-40b5-95c4-3e2eab32335c"
      },
      "execution_count": 36,
      "outputs": [
        {
          "output_type": "stream",
          "name": "stdout",
          "text": [
            "['Cheyenne', 'Denver', 'Charlotte', 'Columbia', 'Cleveland', 'Charleston', 'Columbus', 'Cincinnati', 'Chicago', 'Dallas']\n",
            "['Denver', 'Cheyenne', 'Dallas', 'Chicago', 'Cincinnati', 'Columbus', 'Charleston', 'Cleveland', 'Columbia', 'Charlotte']\n"
          ]
        }
      ]
    },
    {
      "cell_type": "code",
      "source": [
        "['Cheyenne', 'Denver', 'Charlotte', 'Columbia', 'Cleveland', 'Charleston', 'Columbus', 'Cincinnati', 'Chicago', 'Dallas']\n",
        "['Denver', 'Cheyenne', 'Dallas', 'Chicago', 'Cincinnati', 'Columbus', 'Charleston', 'Cleveland', 'Columbia', 'Charlotte']\n",
        "\n",
        "['Cheyenne', 'Denver', 'Charlotte', 'Columbia', 'Cleveland', 'Charleston', 'Columbus', 'Cincinnati', 'Chicago', 'Dallas']\n",
        "['Denver', 'Cheyenne', 'Dallas', 'Chicago', 'Cincinnati', 'Columbus', 'Charleston', 'Cleveland', 'Columbia', 'Charlotte']"
      ],
      "metadata": {
        "id": "AiKFZW85ATcG"
      },
      "execution_count": null,
      "outputs": []
    },
    {
      "cell_type": "code",
      "source": [
        "class Word:\n",
        "    def __init__(self, word):\n",
        "        self._word = word\n",
        "\n",
        "    def __lt__(self, other):\n",
        "        if self.isupper() and not other.isupper(): return False\n",
        "        if self.isdigit() and other.islower(): return False\n",
        "\n",
        "        len = min(len(self._world), len(other._word))\n",
        "        for s, o in zip(self._world[:len], other._word[:len]):\n",
        "            if s < o : return True\n",
        "            elif s > o: return False\n",
        "\n",
        "\n",
        ""
      ],
      "metadata": {
        "id": "a9DmdHc0DpBl"
      },
      "execution_count": null,
      "outputs": []
    }
  ],
  "metadata": {
    "colab": {
      "name": "Colaboratory에 오신 것을 환영합니다",
      "provenance": [],
      "include_colab_link": true
    },
    "kernelspec": {
      "display_name": "Python 3",
      "name": "python3"
    }
  },
  "nbformat": 4,
  "nbformat_minor": 0
}