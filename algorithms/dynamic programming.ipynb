{
  "cells": [
    {
      "cell_type": "markdown",
      "metadata": {
        "id": "view-in-github",
        "colab_type": "text"
      },
      "source": [
        "<a href=\"https://colab.research.google.com/github/dantae74/python/blob/master/algorithms/dynamic%20programming.ipynb\" target=\"_parent\"><img src=\"https://colab.research.google.com/assets/colab-badge.svg\" alt=\"Open In Colab\"/></a>"
      ]
    },
    {
      "cell_type": "markdown",
      "source": [
        "동적 프로그래밍(Dynamic Programming)은 복잡한 문제를 여러 하위 문제로 나누어 해결하는 방법입니다. 이러한 방법은 하위 문제의 결과를 저장하고 재사용함으로써 중복 계산을 피하고 시간 복잡도를 개선하는 데 도움을 줍니다. 동적 프로그래밍은 하위 문제의 최적해를 이용하여 전체 문제의 최적해를 구하는 최적 부분 구조(optimal substructure) 특성에 의존합니다.\n",
        "\n",
        "파이썬으로 동적 프로그래밍의 예제 코드를 보여드리겠습니다. 다음은 피보나치 수열을 구하는 과정에서 동적 프로그래밍을 사용한 예제입니다.\n",
        "\n",
        "    python Copy code\n",
        "    def fibonacci(n):\n",
        "        # 기저 조건 처리\n",
        "        if n <= 1:\n",
        "            return n\n",
        "\n",
        "        # 배열 생성 및 초기값 설정\n",
        "        fib_nums = [0] * (n+1)\n",
        "        fib_nums[0] = 0\n",
        "        fib_nums[1] = 1\n",
        "\n",
        "        # 피보나치 수열 계산\n",
        "        for i in range(2, n+1):\n",
        "            fib_nums[i] = fib_nums[i-1] + fib_nums[i-2]\n",
        "\n",
        "        return fib_nums[n]\n",
        "\n",
        "    n = 10\n",
        "    print(fibonacci(n))  # 55 출력\n",
        "\n",
        "위의 코드에서 fibonacci 함수는 주어진 인덱스 n에 대한 피보나치 수열의 값을 계산합니다. 여기서 fib_nums 배열은 각 인덱스 위치의 피보나치 수를 저장합니다. 배열의 0번째와 1번째 인덱스는 기본 값으로 0과 1을 설정한 다음, for 루프를 통해 배열을 채우는 방식으로 동적 프로그래밍의 개념을 활용합니다.\n",
        "\n",
        "이를 통해 동적 프로그래밍이 어떻게 문제를 해결하는지와 파이썬을 이용한 동적 프로그래밍의 예제 코드를 확인할 수 있습니다."
      ],
      "metadata": {
        "id": "0nbuMcciZEks"
      }
    },
    {
      "cell_type": "markdown",
      "source": [],
      "metadata": {
        "id": "3V6NLx1-ZIa-"
      }
    }
  ],
  "metadata": {
    "colab": {
      "name": "Colaboratory에 오신 것을 환영합니다",
      "provenance": [],
      "include_colab_link": true
    },
    "kernelspec": {
      "display_name": "Python 3",
      "name": "python3"
    }
  },
  "nbformat": 4,
  "nbformat_minor": 0
}