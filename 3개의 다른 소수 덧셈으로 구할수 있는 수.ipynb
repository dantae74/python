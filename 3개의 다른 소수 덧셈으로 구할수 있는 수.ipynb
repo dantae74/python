{
  "cells": [
    {
      "cell_type": "markdown",
      "metadata": {
        "id": "view-in-github",
        "colab_type": "text"
      },
      "source": [
        "<a href=\"https://colab.research.google.com/github/dantae74/python/blob/master/3%EA%B0%9C%EC%9D%98%20%EB%8B%A4%EB%A5%B8%20%EC%86%8C%EC%88%98%20%EB%8D%A7%EC%85%88%EC%9C%BC%EB%A1%9C%20%EA%B5%AC%ED%95%A0%EC%88%98%20%EC%9E%88%EB%8A%94%20%EC%88%98.ipynb\" target=\"_parent\"><img src=\"https://colab.research.google.com/assets/colab-badge.svg\" alt=\"Open In Colab\"/></a>"
      ]
    },
    {
      "cell_type": "code",
      "source": [
        "def is_prime_number(n):\n",
        "    for i in range(2, n):\n",
        "        if n % i == 0: return False\n",
        "\n",
        "    return True\n",
        "\n",
        "def make_prime_number(n):\n",
        "    prime_number = []\n",
        "\n",
        "    for i in range(3, n):\n",
        "        if is_prime_number(i): prime_number.append(i)\n",
        "\n",
        "    return prime_number\n",
        "\n",
        "\n",
        "def solution()\n",
        "\n",
        "\n"
      ],
      "metadata": {
        "id": "XKwoc9aMhEsP",
        "outputId": "eab304c7-18eb-47c5-af20-e1ecbb515326",
        "colab": {
          "base_uri": "https://localhost:8080/"
        }
      },
      "execution_count": 6,
      "outputs": [
        {
          "output_type": "stream",
          "name": "stdout",
          "text": [
            "prime_number: [3, 5, 7]\n"
          ]
        }
      ]
    },
    {
      "cell_type": "code",
      "source": [],
      "metadata": {
        "id": "Mu2VJo7bzeOh"
      },
      "execution_count": null,
      "outputs": []
    }
  ],
  "metadata": {
    "colab": {
      "name": "Colaboratory에 오신 것을 환영합니다",
      "provenance": [],
      "include_colab_link": true
    },
    "kernelspec": {
      "display_name": "Python 3",
      "name": "python3"
    }
  },
  "nbformat": 4,
  "nbformat_minor": 0
}