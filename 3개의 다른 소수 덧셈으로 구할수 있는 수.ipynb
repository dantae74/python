{
  "cells": [
    {
      "cell_type": "markdown",
      "metadata": {
        "id": "view-in-github",
        "colab_type": "text"
      },
      "source": [
        "<a href=\"https://colab.research.google.com/github/dantae74/python/blob/master/3%EA%B0%9C%EC%9D%98%20%EB%8B%A4%EB%A5%B8%20%EC%86%8C%EC%88%98%20%EB%8D%A7%EC%85%88%EC%9C%BC%EB%A1%9C%20%EA%B5%AC%ED%95%A0%EC%88%98%20%EC%9E%88%EB%8A%94%20%EC%88%98.ipynb\" target=\"_parent\"><img src=\"https://colab.research.google.com/assets/colab-badge.svg\" alt=\"Open In Colab\"/></a>"
      ]
    },
    {
      "cell_type": "code",
      "source": [
        "def is_prime_number(n):\n",
        "    for i in range(2, n):\n",
        "        if n % i == 0: return False\n",
        "\n",
        "    return True\n",
        "\n",
        "def make_prime_number(n):\n",
        "    prime_number = []\n",
        "\n",
        "    for i in range(3, n):\n",
        "        if is_prime_number(i): prime_number.append(i)\n",
        "\n",
        "    return prime_number\n",
        "\n",
        "\n",
        "def solution(n):\n",
        "    prime_list = []\n",
        "\n",
        "    prime_number = make_prime_number(n)\n",
        "\n",
        "    for i, first in enumerate(prime_number):\n",
        "        for second in prime_number[i+1:]:\n",
        "            third = n - first - second\n",
        "            if third <= second: break\n",
        "            elif third in prime_number: prime_list.append((first, second, third))\n",
        "            else: continue\n",
        "\n",
        "    print(\"prime_list: {}\".format(prime_list))\n",
        "    return len(prime_list)\n",
        "\n",
        "\n",
        "N1 = 33\n",
        "ret1 = solution(N1)\n",
        "\n",
        "print(\"{}는 소수의 합으로 {}개 가능합니다.\".format(N1, ret1))\n",
        "\n",
        "N2 = 9\n",
        "ret2 = solution(N2)\n",
        "\n",
        "print(\"{}는 소수의 합으로 {}개 가능합니다.\".format(N2, ret2))\n",
        "\n"
      ],
      "metadata": {
        "id": "XKwoc9aMhEsP",
        "outputId": "66b8562f-ae14-4c8d-cc33-848d61ad30a3",
        "colab": {
          "base_uri": "https://localhost:8080/"
        }
      },
      "execution_count": 5,
      "outputs": [
        {
          "output_type": "stream",
          "name": "stdout",
          "text": [
            "prime_list: [(3, 7, 23), (3, 11, 19), (3, 13, 17), (5, 11, 17)]\n",
            "33는 소수의 합으로 4개 가능합니다.\n",
            "prime_list: []\n",
            "9는 소수의 합으로 0개 가능합니다.\n"
          ]
        }
      ]
    },
    {
      "cell_type": "code",
      "source": [
        "p = [3, 5, 7]\n",
        "3 not in p"
      ],
      "metadata": {
        "colab": {
          "base_uri": "https://localhost:8080/"
        },
        "id": "Mu2VJo7bzeOh",
        "outputId": "72836849-c263-4685-da5f-3eb510701fc1"
      },
      "execution_count": 3,
      "outputs": [
        {
          "output_type": "execute_result",
          "data": {
            "text/plain": [
              "False"
            ]
          },
          "metadata": {},
          "execution_count": 3
        }
      ]
    },
    {
      "cell_type": "code",
      "source": [],
      "metadata": {
        "id": "UXDjQkhWTjhO"
      },
      "execution_count": null,
      "outputs": []
    }
  ],
  "metadata": {
    "colab": {
      "name": "Colaboratory에 오신 것을 환영합니다",
      "provenance": [],
      "include_colab_link": true
    },
    "kernelspec": {
      "display_name": "Python 3",
      "name": "python3"
    }
  },
  "nbformat": 4,
  "nbformat_minor": 0
}