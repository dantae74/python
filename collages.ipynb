{
  "cells": [
    {
      "cell_type": "markdown",
      "metadata": {
        "id": "view-in-github",
        "colab_type": "text"
      },
      "source": [
        "<a href=\"https://colab.research.google.com/github/dantae74/python/blob/master/collages.ipynb\" target=\"_parent\"><img src=\"https://colab.research.google.com/assets/colab-badge.svg\" alt=\"Open In Colab\"/></a>"
      ]
    },
    {
      "cell_type": "code",
      "source": [
        "!pip install -Uqq ipdb\n",
        "import ipdb"
      ],
      "metadata": {
        "id": "WchiMrykOOUb"
      },
      "execution_count": null,
      "outputs": []
    },
    {
      "cell_type": "code",
      "source": [
        "%pdb on\n",
        "ipdb.set_trace(context=10)"
      ],
      "metadata": {
        "id": "bPi2FjmWOr5S"
      },
      "execution_count": null,
      "outputs": []
    },
    {
      "cell_type": "code",
      "source": [
        "import sys\n",
        "\n",
        "input = sys.stdin.readline\n",
        "\n",
        "'''\n",
        "N: 정점의 개수\n",
        "M: 간선의 개수\n",
        "Q: 관리비\n",
        "'''\n",
        "N,M,Q = map(int, input().strip().split())\n",
        "\n",
        "print(f\"\\n{N=},{M=}, {Q=}\")\n",
        "\n",
        "graph = {}\n",
        "for i in range(N):\n",
        "\tgraph[i+1] = {}\n",
        "\n",
        "# print(f\"\\n{graph=}\")\n",
        "\n",
        "for i in range(9):\n",
        "\ts,e,v = map(int, input().strip().split())\n",
        "\tif s in graph:\n",
        "\t\tgraph[s]\n",
        "\telse:\n",
        "\t\tgraph[s]\n",
        "\n",
        "# collages = {\"A\":0, \"B\":0, \"C\":0, \"D\":0, \"E\":0}\n",
        "\n",
        "\n"
      ],
      "metadata": {
        "id": "g50xRBWYUEIe"
      },
      "execution_count": null,
      "outputs": []
    }
  ],
  "metadata": {
    "colab": {
      "name": "Colaboratory에 오신 것을 환영합니다",
      "provenance": [],
      "include_colab_link": true
    },
    "kernelspec": {
      "display_name": "Python 3",
      "name": "python3"
    }
  },
  "nbformat": 4,
  "nbformat_minor": 0
}