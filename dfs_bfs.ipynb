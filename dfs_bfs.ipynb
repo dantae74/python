{
  "cells": [
    {
      "cell_type": "markdown",
      "metadata": {
        "id": "view-in-github",
        "colab_type": "text"
      },
      "source": [
        "<a href=\"https://colab.research.google.com/github/dantae74/python/blob/master/dfs_bfs.ipynb\" target=\"_parent\"><img src=\"https://colab.research.google.com/assets/colab-badge.svg\" alt=\"Open In Colab\"/></a>"
      ]
    },
    {
      "cell_type": "code",
      "source": [
        "!pip install -Uqq ipdb\n",
        "import ipdb"
      ],
      "metadata": {
        "id": "WchiMrykOOUb"
      },
      "execution_count": null,
      "outputs": []
    },
    {
      "cell_type": "code",
      "source": [
        "%pdb off\n",
        "# ipdb.set_trace(context=10)"
      ],
      "metadata": {
        "id": "bPi2FjmWOr5S"
      },
      "execution_count": null,
      "outputs": []
    },
    {
      "cell_type": "code",
      "source": [
        "def dfs(graph, start, N):\n",
        "  stack = []\n",
        "  stack.append(start)\n",
        "  trace = []\n",
        "  visited = [False for _ in range(N+1)]\n",
        "\n",
        "\n",
        "  while stack:\n",
        "    cur = stack.pop()\n",
        "    # print(\"cur: {}, N: {}\".format(cur, N))\n",
        "    if visited[cur]:\n",
        "      continue\n",
        "    trace.append(cur)\n",
        "    visited[cur] = True\n",
        "    # print(\"if cur in graph:{}\".format(cur in graph))\n",
        "    # ipdb.set_trace(context=10)\n",
        "    if cur in graph:\n",
        "      adjs = list(graph[cur])\n",
        "      adjs.reverse()\n",
        "      if adjs:\n",
        "        for adj in adjs:\n",
        "            stack.append(adj)\n",
        "\n",
        "  print(trace)\n",
        "\n",
        "from collections import deque\n",
        "def bfs(graph, start, N):\n",
        "  trace = []\n",
        "  visited =  [False for _ in range(N+1)]\n",
        "  q = deque()\n",
        "  q.appendleft(start)\n",
        "  # ipdb.set_trace(context=10)q\n",
        "\n",
        "  while q:\n",
        "    cur = q.pop()\n",
        "    if visited[cur]:\n",
        "      continue\n",
        "    visited[cur] = True\n",
        "    trace.append(cur)\n",
        "    if cur in graph:\n",
        "      adjs = list(graph[cur])\n",
        "      if adjs:\n",
        "        for adj in adjs:\n",
        "          q.appendleft(adj)\n",
        "\n",
        "  print(trace)\n",
        "\n",
        "\n",
        "# N : 정점의 갯수\n",
        "# M : 간선수\n",
        "# V  : 시작점\n",
        "N, M, V = map(int, input().split())\n",
        "\n",
        "# graph는 딕션너리로 정의, key(정점):value(인접정점리스트:[오름차순])\n",
        "graph = {}\n",
        "\n",
        "for i in range(M):\n",
        "  key, value = map(int, input().split())\n",
        "  if key in graph:\n",
        "    # ipdb.set_trace(context=10)\n",
        "    if value not in graph[key]:\n",
        "      value = graph[key] + [value]\n",
        "      graph[key] = sorted(value)\n",
        "  else:\n",
        "    graph[key] = [value]\n",
        "\n",
        "# print(graph)1\n",
        "dfs(graph, V, N)\n",
        "bfs(graph, V, N)"
      ],
      "metadata": {
        "id": "yyHIqk4JSjYt"
      },
      "execution_count": null,
      "outputs": []
    },
    {
      "cell_type": "code",
      "source": [],
      "metadata": {
        "id": "BApOWcA1KTOG"
      },
      "execution_count": null,
      "outputs": []
    }
  ],
  "metadata": {
    "colab": {
      "name": "Colaboratory에 오신 것을 환영합니다",
      "provenance": [],
      "include_colab_link": true
    },
    "kernelspec": {
      "display_name": "Python 3",
      "name": "python3"
    }
  },
  "nbformat": 4,
  "nbformat_minor": 0
}