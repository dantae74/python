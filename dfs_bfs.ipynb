{
  "cells": [
    {
      "cell_type": "markdown",
      "metadata": {
        "id": "view-in-github",
        "colab_type": "text"
      },
      "source": [
        "<a href=\"https://colab.research.google.com/github/dantae74/python/blob/master/dfs_bfs.ipynb\" target=\"_parent\"><img src=\"https://colab.research.google.com/assets/colab-badge.svg\" alt=\"Open In Colab\"/></a>"
      ]
    },
    {
      "cell_type": "code",
      "source": [
        "!pip install -Uqq ipdb\n",
        "import ipdb"
      ],
      "metadata": {
        "id": "WchiMrykOOUb"
      },
      "execution_count": 1,
      "outputs": []
    },
    {
      "cell_type": "code",
      "source": [
        "%pdb on\n",
        "# ipdb.set_trace(context=10)"
      ],
      "metadata": {
        "id": "bPi2FjmWOr5S",
        "outputId": "b74ffd93-8aaa-4227-f296-b19325e126ce",
        "colab": {
          "base_uri": "https://localhost:8080/"
        }
      },
      "execution_count": 2,
      "outputs": [
        {
          "output_type": "stream",
          "name": "stdout",
          "text": [
            "Automatic pdb calling has been turned ON\n"
          ]
        }
      ]
    },
    {
      "cell_type": "code",
      "source": [
        "def dfs(graph, start):\n",
        "  stack = []\n",
        "  stack.append(start)\n",
        "  trace = []\n",
        "\n",
        "  while stack:\n",
        "    cur = stack.pop()\n",
        "    # trace.append(cur)\n",
        "    # print(\"if cur in graph:{}\".format(cur in graph))\n",
        "\n",
        "    # ipdb.set_trace(context=10)\n",
        "    if cur in graph:\n",
        "      adjs = graph[cur]\n",
        "      if adjs:\n",
        "        for adj in adjs[::-1]:\n",
        "          stack.append(adj)\n",
        "\n",
        "  print(trace)\n",
        "\n",
        "\n",
        "\n",
        "# N : 정점의 갯수\n",
        "# M : 간선수\n",
        "# V  : 시작점\n",
        "N, M, V = map(int, input().split())\n",
        "\n",
        "# graph는 딕션너리로 정의, key(정점):value(인접정점리스트:[오름차순])\n",
        "graph = {}\n",
        "\n",
        "for i in range(M):\n",
        "  key, value = map(int, input().split())\n",
        "  if key in graph:\n",
        "    # ipdb.set_trace(context=10)\n",
        "    if value not in graph[key]:\n",
        "      value = graph[key] + [value]\n",
        "      graph[key] = sorted(value)\n",
        "  else:\n",
        "    graph[key] = [value]\n",
        "\n",
        "print(graph)\n",
        "dfs(graph, V)\n",
        "\n",
        "\n",
        "\n",
        "\n",
        "\n",
        "\n"
      ],
      "metadata": {
        "id": "yyHIqk4JSjYt",
        "outputId": "f624f01d-ec40-4c56-a233-de5693d7eb4a",
        "colab": {
          "base_uri": "https://localhost:8080/"
        }
      },
      "execution_count": 3,
      "outputs": [
        {
          "output_type": "stream",
          "name": "stdout",
          "text": [
            "4 5 1\n",
            "1 2\n",
            "1 3\n",
            "1 4\n",
            "2 4\n",
            "3 4\n",
            "{1: [2, 3, 4], 2: [4], 3: [4]}\n",
            "[]\n"
          ]
        }
      ]
    },
    {
      "cell_type": "code",
      "source": [],
      "metadata": {
        "id": "Do7zmTjLbvB6"
      },
      "execution_count": null,
      "outputs": []
    }
  ],
  "metadata": {
    "colab": {
      "name": "Colaboratory에 오신 것을 환영합니다",
      "provenance": [],
      "include_colab_link": true
    },
    "kernelspec": {
      "display_name": "Python 3",
      "name": "python3"
    }
  },
  "nbformat": 4,
  "nbformat_minor": 0
}