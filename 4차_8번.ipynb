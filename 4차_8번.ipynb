{
  "cells": [
    {
      "cell_type": "markdown",
      "metadata": {
        "id": "view-in-github",
        "colab_type": "text"
      },
      "source": [
        "<a href=\"https://colab.research.google.com/github/dantae74/python/blob/master/4%EC%B0%A8_8%EB%B2%88.ipynb\" target=\"_parent\"><img src=\"https://colab.research.google.com/assets/colab-badge.svg\" alt=\"Open In Colab\"/></a>"
      ]
    },
    {
      "cell_type": "code",
      "source": [
        "import copy\n",
        "\n",
        "def make_list(cards):\n",
        "    card_list = []\n",
        "    for c1 in cards:\n",
        "        tmp = copy.deepcopy(cards)\n",
        "        tmp.remove(c1)\n",
        "        for c2 in tmp:\n",
        "            tmp.remove(c2)\n",
        "            for c3 in tmp:\n",
        "                tmp.remove(c3)\n",
        "                for c4 in tmp:\n",
        "                    num = c1 * 1000 + c2 * 100 + c3 * 10 + c4\n",
        "                    print(\"num : {}\".format(num))\n",
        "                    if num not in card_list: card_list.append(num)\n",
        "\n",
        "    sorted(card_list)\n",
        "    print(\"card_list {}\".format(card_list))\n",
        "    return list(card_list)\n",
        "\n",
        "def solution(card, n):\n",
        "    card_list = make_list(card)\n",
        "\n",
        "    answer = -1\n",
        "    for i, card in enumerate(card_list):\n",
        "        if n == card: return i+1\n",
        "\n",
        "    return answer\n",
        "\n",
        "card = [1, 2, 1, 3]\n",
        "n = 1312\n",
        "\n",
        "ret = solution(card, n)\n",
        "print(\"{} 번째 작은수 입니다.\".format(ret))"
      ],
      "metadata": {
        "colab": {
          "base_uri": "https://localhost:8080/"
        },
        "id": "414X6Ihy-Mdg",
        "outputId": "5dd163ca-a46a-4598-cb5d-283731aa8e7a"
      },
      "execution_count": 68,
      "outputs": [
        {
          "output_type": "stream",
          "name": "stdout",
          "text": [
            "num : 1213\n",
            "num : 2113\n",
            "num : 1213\n",
            "num : 3121\n",
            "card_list [1213, 2113, 3121]\n",
            "-1 번째 작은수 입니다.\n"
          ]
        }
      ]
    },
    {
      "cell_type": "code",
      "source": [
        "card_list = [1213, 2113, 3121]\n",
        "for i in card_list:\n",
        "    print(i)"
      ],
      "metadata": {
        "colab": {
          "base_uri": "https://localhost:8080/"
        },
        "id": "FN5dRRqcCT_S",
        "outputId": "028065fb-1734-4b90-cbf3-10d5b2674b02"
      },
      "execution_count": 66,
      "outputs": [
        {
          "output_type": "stream",
          "name": "stdout",
          "text": [
            "1213\n",
            "2113\n",
            "3121\n"
          ]
        }
      ]
    },
    {
      "cell_type": "code",
      "source": [],
      "metadata": {
        "id": "dEi-IzB2CbxW"
      },
      "execution_count": null,
      "outputs": []
    }
  ],
  "metadata": {
    "colab": {
      "name": "Colaboratory에 오신 것을 환영합니다",
      "provenance": [],
      "include_colab_link": true
    },
    "kernelspec": {
      "display_name": "Python 3",
      "name": "python3"
    }
  },
  "nbformat": 4,
  "nbformat_minor": 0
}