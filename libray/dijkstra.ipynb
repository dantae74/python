{
  "cells": [
    {
      "cell_type": "markdown",
      "metadata": {
        "id": "view-in-github",
        "colab_type": "text"
      },
      "source": [
        "<a href=\"https://colab.research.google.com/github/dantae74/python/blob/master/libray/dijkstra.ipynb\" target=\"_parent\"><img src=\"https://colab.research.google.com/assets/colab-badge.svg\" alt=\"Open In Colab\"/></a>"
      ]
    },
    {
      "cell_type": "code",
      "source": [
        "!pip install -Uqq ipdb\n",
        "import ipdb"
      ],
      "metadata": {
        "id": "WchiMrykOOUb",
        "outputId": "f1258023-6dba-4485-fb86-8bd77d64c45f",
        "colab": {
          "base_uri": "https://localhost:8080/"
        }
      },
      "execution_count": null,
      "outputs": [
        {
          "output_type": "stream",
          "name": "stdout",
          "text": [
            "\u001b[?25l     \u001b[90m━━━━━━━━━━━━━━━━━━━━━━━━━━━━━━━━━━━━━━━━\u001b[0m \u001b[32m0.0/1.6 MB\u001b[0m \u001b[31m?\u001b[0m eta \u001b[36m-:--:--\u001b[0m\r\u001b[2K     \u001b[91m━━━━\u001b[0m\u001b[91m╸\u001b[0m\u001b[90m━━━━━━━━━━━━━━━━━━━━━━━━━━━━━━━━━━━\u001b[0m \u001b[32m0.2/1.6 MB\u001b[0m \u001b[31m5.8 MB/s\u001b[0m eta \u001b[36m0:00:01\u001b[0m\r\u001b[2K     \u001b[91m━━━━━━━━━━━━━━━━━━━━━━━━━━━━━━━━━━━━━━━\u001b[0m\u001b[91m╸\u001b[0m \u001b[32m1.6/1.6 MB\u001b[0m \u001b[31m22.7 MB/s\u001b[0m eta \u001b[36m0:00:01\u001b[0m\r\u001b[2K     \u001b[90m━━━━━━━━━━━━━━━━━━━━━━━━━━━━━━━━━━━━━━━━\u001b[0m \u001b[32m1.6/1.6 MB\u001b[0m \u001b[31m16.8 MB/s\u001b[0m eta \u001b[36m0:00:00\u001b[0m\n",
            "\u001b[?25h"
          ]
        }
      ]
    },
    {
      "cell_type": "code",
      "source": [
        "%pdb on\n",
        "ipdb.set_trace(context=10)"
      ],
      "metadata": {
        "id": "bPi2FjmWOr5S",
        "outputId": "a5738b20-4f9b-496c-efc0-a48a87e9a581",
        "colab": {
          "base_uri": "https://localhost:8080/"
        }
      },
      "execution_count": null,
      "outputs": [
        {
          "output_type": "stream",
          "name": "stdout",
          "text": [
            "Automatic pdb calling has been turned ON\n"
          ]
        }
      ]
    },
    {
      "cell_type": "code",
      "source": [
        "import sys\n",
        "from queue import PriorityQueue\n",
        "\n",
        "INF = sys.maxsize\n",
        "\n",
        "'''\n",
        "myList : 인접리스트\n",
        "V : 정점 개수\n",
        "K : 시작노드\n",
        "'''\n",
        "def dijkstra(myList, V, K):\n",
        "  distance = [INF] * (V+1)\n",
        "  visited = [False] * (V+1)\n",
        "  q = PriorityQueue()\n",
        "  q.put((0, K))\n",
        "  while not q.empty():\n",
        "\n",
        "\n",
        "\n",
        "  return distance\n",
        "\n",
        "\n",
        "\n",
        "visited = []\n",
        "distance = []\n",
        "myList = []\n",
        "\n",
        "V = 0 # 정점의 개수\n",
        "E = 0 # 간선의 개수\n",
        "K = 0 # 시작노드\n",
        "\n",
        "f = open('input.txt', 'r')\n",
        "for i, line in enumerate(f):\n",
        "  if i == 0:\n",
        "    V, E = map(int, line.split())\n",
        "    myList = [[] for _ in range(V+1)]\n",
        "  elif i == 1:\n",
        "    K = int(line)\n",
        "  else:\n",
        "    u, v, w = map(int, line.split())\n",
        "    myList[u].append((v, w))\n",
        "f.close()\n",
        "\n",
        "# print(f'{myList=}')\n",
        "\n",
        "distance = dijkstra(myList, V, K)\n",
        "for d in distance[1:]:\n",
        "  if d == INF:\n",
        "    print(\"INF\")\n",
        "  else:\n",
        "    print(d)\n",
        "\n",
        "\n",
        "\n"
      ],
      "metadata": {
        "colab": {
          "base_uri": "https://localhost:8080/"
        },
        "id": "3m4AOoGuGjVO",
        "outputId": "5c123790-33f8-4af0-f113-8cfb7f744247"
      },
      "execution_count": 6,
      "outputs": [
        {
          "output_type": "stream",
          "name": "stdout",
          "text": [
            "(0, 1)\n",
            "INF\n",
            "INF\n",
            "INF\n",
            "INF\n",
            "INF\n"
          ]
        }
      ]
    },
    {
      "cell_type": "code",
      "source": [],
      "metadata": {
        "id": "M0FGQ9lvWxPd"
      },
      "execution_count": null,
      "outputs": []
    }
  ],
  "metadata": {
    "colab": {
      "name": "Colaboratory에 오신 것을 환영합니다",
      "provenance": [],
      "include_colab_link": true
    },
    "kernelspec": {
      "display_name": "Python 3",
      "name": "python3"
    }
  },
  "nbformat": 4,
  "nbformat_minor": 0
}