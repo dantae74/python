{
  "cells": [
    {
      "cell_type": "markdown",
      "metadata": {
        "id": "view-in-github",
        "colab_type": "text"
      },
      "source": [
        "<a href=\"https://colab.research.google.com/github/dantae74/python/blob/master/libray/floyd_warshall.ipynb\" target=\"_parent\"><img src=\"https://colab.research.google.com/assets/colab-badge.svg\" alt=\"Open In Colab\"/></a>"
      ]
    },
    {
      "cell_type": "code",
      "source": [
        "!pip install -Uqq ipdb\n",
        "import ipdb"
      ],
      "metadata": {
        "id": "WchiMrykOOUb",
        "outputId": "f1258023-6dba-4485-fb86-8bd77d64c45f",
        "colab": {
          "base_uri": "https://localhost:8080/"
        }
      },
      "execution_count": null,
      "outputs": [
        {
          "output_type": "stream",
          "name": "stdout",
          "text": [
            "\u001b[?25l     \u001b[90m━━━━━━━━━━━━━━━━━━━━━━━━━━━━━━━━━━━━━━━━\u001b[0m \u001b[32m0.0/1.6 MB\u001b[0m \u001b[31m?\u001b[0m eta \u001b[36m-:--:--\u001b[0m\r\u001b[2K     \u001b[91m━━━━\u001b[0m\u001b[91m╸\u001b[0m\u001b[90m━━━━━━━━━━━━━━━━━━━━━━━━━━━━━━━━━━━\u001b[0m \u001b[32m0.2/1.6 MB\u001b[0m \u001b[31m5.8 MB/s\u001b[0m eta \u001b[36m0:00:01\u001b[0m\r\u001b[2K     \u001b[91m━━━━━━━━━━━━━━━━━━━━━━━━━━━━━━━━━━━━━━━\u001b[0m\u001b[91m╸\u001b[0m \u001b[32m1.6/1.6 MB\u001b[0m \u001b[31m22.7 MB/s\u001b[0m eta \u001b[36m0:00:01\u001b[0m\r\u001b[2K     \u001b[90m━━━━━━━━━━━━━━━━━━━━━━━━━━━━━━━━━━━━━━━━\u001b[0m \u001b[32m1.6/1.6 MB\u001b[0m \u001b[31m16.8 MB/s\u001b[0m eta \u001b[36m0:00:00\u001b[0m\n",
            "\u001b[?25h"
          ]
        }
      ]
    },
    {
      "cell_type": "code",
      "source": [
        "%pdb on\n",
        "ipdb.set_trace(context=10)"
      ],
      "metadata": {
        "id": "bPi2FjmWOr5S",
        "outputId": "a5738b20-4f9b-496c-efc0-a48a87e9a581",
        "colab": {
          "base_uri": "https://localhost:8080/"
        }
      },
      "execution_count": null,
      "outputs": [
        {
          "output_type": "stream",
          "name": "stdout",
          "text": [
            "Automatic pdb calling has been turned ON\n"
          ]
        }
      ]
    },
    {
      "cell_type": "code",
      "source": [
        "import sys\n",
        "\n",
        "INF = sys.maxsize\n",
        "\n",
        "\n",
        "def floyd_warshall(edges, N, M):\n",
        "  pass\n",
        "\n",
        "'''\n",
        "N: 도시의 개수\n",
        "M: 버스 노선의 개수\n",
        "A, B, V:  출발도시, 도착도시, 비용\n",
        "'''\n",
        "\n",
        "edges = []\n",
        "\n",
        "f = open('input.txt', 'r')\n",
        "rc = 0\n",
        "for line in f:\n",
        "  if line[0] == '#': continue\n",
        "  elif line == '\\n': continue\n",
        "  elif rc == 0:\n",
        "    N = int(line)\n",
        "    rc += 1\n",
        "  elif rc == 1:\n",
        "    M = int(line)\n",
        "    rc += 1\n",
        "  else:\n",
        "    a, b, v = map(int, line.split())\n",
        "    edges.append((a,b,v))\n",
        "f.close()\n",
        "\n",
        "print(f'{edges=}')\n"
      ],
      "metadata": {
        "id": "5A8PpeBCKtOc",
        "outputId": "7e0b974b-4859-40f3-dfbd-16efd83de9fc",
        "colab": {
          "base_uri": "https://localhost:8080/"
        }
      },
      "execution_count": 2,
      "outputs": [
        {
          "output_type": "stream",
          "name": "stdout",
          "text": [
            "edges=[(1, 2, 2), (1, 3, 3), (1, 4, 1), (1, 5, 10), (2, 4, 2), (3, 4, 1), (3, 5, 1), (4, 5, 3), (3, 5, 10), (3, 1, 8), (1, 4, 2), (5, 1, 7), (3, 4, 2), (5, 2, 4)]\n"
          ]
        }
      ]
    },
    {
      "cell_type": "code",
      "source": [],
      "metadata": {
        "id": "98Ib7tieMLk1"
      },
      "execution_count": null,
      "outputs": []
    }
  ],
  "metadata": {
    "colab": {
      "name": "Colaboratory에 오신 것을 환영합니다",
      "provenance": [],
      "include_colab_link": true
    },
    "kernelspec": {
      "display_name": "Python 3",
      "name": "python3"
    }
  },
  "nbformat": 4,
  "nbformat_minor": 0
}