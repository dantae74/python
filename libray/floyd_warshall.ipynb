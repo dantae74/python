{
  "cells": [
    {
      "cell_type": "markdown",
      "metadata": {
        "id": "view-in-github",
        "colab_type": "text"
      },
      "source": [
        "<a href=\"https://colab.research.google.com/github/dantae74/python/blob/master/libray/floyd_warshall.ipynb\" target=\"_parent\"><img src=\"https://colab.research.google.com/assets/colab-badge.svg\" alt=\"Open In Colab\"/></a>"
      ]
    },
    {
      "cell_type": "code",
      "source": [
        "!pip install -Uqq ipdb\n",
        "import ipdb"
      ],
      "metadata": {
        "id": "WchiMrykOOUb"
      },
      "execution_count": null,
      "outputs": []
    },
    {
      "cell_type": "code",
      "source": [
        "%pdb on\n",
        "ipdb.set_trace(context=10)"
      ],
      "metadata": {
        "id": "bPi2FjmWOr5S"
      },
      "execution_count": null,
      "outputs": []
    },
    {
      "cell_type": "code",
      "source": [
        "import sys\n",
        "\n",
        "INF = sys.maxsize\n",
        "\n",
        "\n",
        "def floyd_warshall(edges, N, M):\n",
        "\n",
        "  # 초기화\n",
        "  distance = [[INF for _ in range(N+1)] for _ in range(N+1)]\n",
        "  for i in range(1, N+1): # 자기자신은 0으로 설정\n",
        "    distance[i][i] = 0\n",
        "\n",
        "  for s, e, v in edges:\n",
        "    if distance[s][e] > v:\n",
        "      distance[s][e] = v\n",
        "\n",
        "  for k in range(1, N+1):\n",
        "    for s in range(1, N+1):\n",
        "      for e in range(1, N+1):\n",
        "        if distance[s][e] > distance[s][k] + distance[k][e]:\n",
        "          distance[s][e] = distance[s][k] + distance[k][e]\n",
        "\n",
        "\n",
        "  # print(distance)\n",
        "\n",
        "  return distance\n",
        "\n",
        "'''\n",
        "N: 도시의 개수\n",
        "M: 버스 노선의 개수\n",
        "A, B, V:  출발도시, 도착도시, 비용\n",
        "'''\n",
        "\n",
        "edges = []\n",
        "\n",
        "f = open('input.txt', 'r')\n",
        "rc = 0\n",
        "for line in f:\n",
        "  if line[0] == '#': continue\n",
        "  elif line == '\\n': continue\n",
        "  elif rc == 0:\n",
        "    N = int(line)\n",
        "    rc += 1\n",
        "  elif rc == 1:\n",
        "    M = int(line)\n",
        "    rc += 1\n",
        "  else:\n",
        "    a, b, v = map(int, line.split())\n",
        "    edges.append((a,b,v))\n",
        "f.close()\n",
        "\n",
        "print(f'{edges=}')\n",
        "\n",
        "distances = floyd_warshall(edges, N, M)\n",
        "\n",
        "for distance in distances[1:]:\n",
        "  for v in distance[1:]:\n",
        "    if v == INF:\n",
        "      print(0, end=' ')\n",
        "    else:\n",
        "      print(v, end=' ')\n",
        "  print()\n"
      ],
      "metadata": {
        "id": "5A8PpeBCKtOc"
      },
      "execution_count": null,
      "outputs": []
    },
    {
      "cell_type": "code",
      "source": [],
      "metadata": {
        "id": "98Ib7tieMLk1"
      },
      "execution_count": null,
      "outputs": []
    }
  ],
  "metadata": {
    "colab": {
      "name": "Colaboratory에 오신 것을 환영합니다",
      "provenance": [],
      "include_colab_link": true
    },
    "kernelspec": {
      "display_name": "Python 3",
      "name": "python3"
    }
  },
  "nbformat": 4,
  "nbformat_minor": 0
}