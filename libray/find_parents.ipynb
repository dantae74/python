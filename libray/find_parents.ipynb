{
  "cells": [
    {
      "cell_type": "markdown",
      "metadata": {
        "id": "view-in-github",
        "colab_type": "text"
      },
      "source": [
        "<a href=\"https://colab.research.google.com/github/dantae74/python/blob/master/libray/find_parents.ipynb\" target=\"_parent\"><img src=\"https://colab.research.google.com/assets/colab-badge.svg\" alt=\"Open In Colab\"/></a>"
      ]
    },
    {
      "cell_type": "code",
      "source": [
        "!pip install -Uqq ipdb\n",
        "import ipdb"
      ],
      "metadata": {
        "id": "WchiMrykOOUb"
      },
      "execution_count": null,
      "outputs": []
    },
    {
      "cell_type": "code",
      "source": [
        "%pdb on\n",
        "ipdb.set_trace(context=10)"
      ],
      "metadata": {
        "id": "bPi2FjmWOr5S"
      },
      "execution_count": null,
      "outputs": []
    },
    {
      "cell_type": "code",
      "source": [
        "def DFS(number):\n",
        "  visited[number] = True\n",
        "  for i in tree[number]:\n",
        "    if visited[i] == False:\n",
        "      visited[i] = True\n",
        "      answer[i] = number\n",
        "      DFS(i)\n",
        "\n",
        "\n",
        "N = 0\n",
        "input_list = []\n",
        "\n",
        "f = open('input.txt', 'r')\n",
        "rc = 0\n",
        "for line in f:\n",
        "  if line[0] == '#': continue\n",
        "  elif line == '\\n': continue\n",
        "  elif rc == 0:\n",
        "    N = int(line)\n",
        "    rc += 1\n",
        "  else:\n",
        "    n1, n2 = map(int, line.split())\n",
        "    input_list.append([n1, n2])\n",
        "f.close()\n",
        "\n",
        "# print(N, input_list)\n",
        "\n",
        "tree = [[] for _ in range(N+1)]\n",
        "\n",
        "for i in range(N-1):\n",
        "  n1, n2 = input_list[i]\n",
        "  tree[n1].append(n2)\n",
        "  tree[n2].append(n1)\n",
        "\n",
        "# print(tree)\n",
        "\n",
        "answer = [[] for _ in range(N+1)]\n",
        "visited = [False] * (N+1)\n",
        "\n",
        "DFS(1)\n",
        "\n",
        "for n in answer[2:]:\n",
        "  print(n)"
      ],
      "metadata": {
        "id": "5QS9-m7R2hyQ"
      },
      "execution_count": null,
      "outputs": []
    }
  ],
  "metadata": {
    "colab": {
      "name": "Colaboratory에 오신 것을 환영합니다",
      "provenance": [],
      "include_colab_link": true
    },
    "kernelspec": {
      "display_name": "Python 3",
      "name": "python3"
    }
  },
  "nbformat": 4,
  "nbformat_minor": 0
}