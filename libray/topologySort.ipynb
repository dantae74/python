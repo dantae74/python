{
  "cells": [
    {
      "cell_type": "markdown",
      "metadata": {
        "id": "view-in-github",
        "colab_type": "text"
      },
      "source": [
        "<a href=\"https://colab.research.google.com/github/dantae74/python/blob/master/libray/topologySort.ipynb\" target=\"_parent\"><img src=\"https://colab.research.google.com/assets/colab-badge.svg\" alt=\"Open In Colab\"/></a>"
      ]
    },
    {
      "cell_type": "code",
      "source": [
        "# prompt: toplogy sort 함수와 예시를 python으로 작성해 주세요\n",
        "\n",
        "def topologySort(graph):\n",
        "  \"\"\"\n",
        "  Topological sorting algorithm.\n",
        "\n",
        "  Args:\n",
        "    graph: A directed acyclic graph.\n",
        "\n",
        "  Returns:\n",
        "    A list of nodes in topological order.\n",
        "  \"\"\"\n",
        "\n",
        "  # Create a dictionary to store the indegrees of each node.\n",
        "  indegrees = {}\n",
        "  for node in graph:\n",
        "    indegrees[node] = 0\n",
        "\n",
        "  # Count the indegrees of each node.\n",
        "  for node, neighbors in graph.items():\n",
        "    for neighbor in neighbors:\n",
        "      indegrees[neighbor] += 1\n",
        "\n",
        "  # Create a queue to store the nodes with no incoming edges.\n",
        "  queue = []\n",
        "  for node, indegree in indegrees.items():\n",
        "    if indegree == 0:\n",
        "      queue.append(node)\n",
        "\n",
        "  # Iterate over the queue, removing nodes with no incoming edges and adding\n",
        "  # their neighbors to the queue.\n",
        "  sorted_nodes = []\n",
        "  while queue:\n",
        "    node = queue.pop(0)\n",
        "    sorted_nodes.append(node)\n",
        "    for neighbor in graph[node]:\n",
        "      indegrees[neighbor] -= 1\n",
        "      if indegrees[neighbor] == 0:\n",
        "        queue.append(neighbor)\n",
        "\n",
        "  return sorted_nodes\n",
        "\n",
        "\n",
        "# Example usage.\n",
        "graph = {\n",
        "  \"A\": [\"B\", \"C\"],\n",
        "  \"B\": [\"C\"],\n",
        "  \"C\": [],\n",
        "  \"D\": [\"A\", \"C\"],\n",
        "  \"E\": [\"D\"]\n",
        "}\n",
        "\n",
        "print(topologySort(graph))\n"
      ],
      "metadata": {
        "id": "A51s46tPXZdh"
      },
      "execution_count": null,
      "outputs": []
    },
    {
      "cell_type": "code",
      "source": [],
      "metadata": {
        "id": "C_Euxle9ejwt"
      },
      "execution_count": null,
      "outputs": []
    }
  ],
  "metadata": {
    "colab": {
      "name": "Colaboratory에 오신 것을 환영합니다",
      "provenance": [],
      "include_colab_link": true
    },
    "kernelspec": {
      "display_name": "Python 3",
      "name": "python3"
    }
  },
  "nbformat": 4,
  "nbformat_minor": 0
}