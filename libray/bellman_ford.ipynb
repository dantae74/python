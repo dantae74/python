{
  "cells": [
    {
      "cell_type": "markdown",
      "metadata": {
        "id": "view-in-github",
        "colab_type": "text"
      },
      "source": [
        "<a href=\"https://colab.research.google.com/github/dantae74/python/blob/master/libray/bellman_ford.ipynb\" target=\"_parent\"><img src=\"https://colab.research.google.com/assets/colab-badge.svg\" alt=\"Open In Colab\"/></a>"
      ]
    },
    {
      "cell_type": "code",
      "source": [
        "!pip install -Uqq ipdb\n",
        "import ipdb"
      ],
      "metadata": {
        "id": "WchiMrykOOUb"
      },
      "execution_count": null,
      "outputs": []
    },
    {
      "cell_type": "code",
      "source": [
        "%pdb on\n",
        "ipdb.set_trace(context=10)"
      ],
      "metadata": {
        "id": "bPi2FjmWOr5S"
      },
      "execution_count": null,
      "outputs": []
    },
    {
      "cell_type": "code",
      "source": [
        "import sys\n",
        "\n",
        "INF = sys.maxsize\n",
        "\n",
        "\n",
        "\n",
        "\n",
        "f = open('input.txt', 'r')\n",
        "for i, line in enumerate(f):\n",
        "  if i == 0:\n",
        "    V, E = map(int, line.split())\n",
        "    myList = [[] for _ in range(V+1)]\n",
        "  elif i == 1:\n",
        "    K = int(line)\n",
        "  else:\n",
        "    u, v, w = map(int, line.split())\n",
        "    myList[u].append((v, w))\n",
        "f.close()\n",
        "\n",
        "# print(f'{myList=}')\n",
        "\n",
        "distance = bellmanFord(myList, V, K)\n",
        "for d in distance[1:]:\n",
        "  if d == INF:\n",
        "    print(\"INF\")\n",
        "  else:\n",
        "    print(d)\n",
        "\n",
        "\n",
        "\n"
      ],
      "metadata": {
        "id": "3m4AOoGuGjVO"
      },
      "execution_count": null,
      "outputs": []
    },
    {
      "cell_type": "code",
      "source": [
        "# prompt: dijkstra 최단거리 함수를 python으로 작성해 주세요\n",
        "\n",
        "import ipdb\n",
        "import sys\n",
        "from queue import PriorityQueue\n",
        "!pip install -Uqq ipdb\n",
        "%pdb on\n",
        "ipdb.set_trace(context=10)\n",
        "\n",
        "INF = sys.maxsize\n",
        "\n",
        "'''\n",
        "myList : 인접리스트\n",
        "V : 정점 개수\n",
        "K : 시작노드\n",
        "'''\n",
        "def dijkstra(myList, V, K):\n",
        "  distance = [INF] * (V+1)\n",
        "  visited = [False] * (V+1)\n",
        "  q = PriorityQueue()\n",
        "\n",
        "  # 시작노드에 distance를 0으로 설정하고, Queue에 put\n",
        "  distance[K] = 0\n",
        "  q.put((0, K))\n",
        "\n",
        "  while not q.empty():\n",
        "    v, node = q.get()\n",
        "    print(f'{v=}, {node=}')\n",
        "    if visited[node]:\n",
        "      continue\n",
        "    else:\n",
        "      visited[node] = True\n",
        "    for neighbor, w in  myList[node]:\n",
        "      print(f'{neighbor=}, {w=}')\n",
        "      print(f'{distance[neighbor]=}, {distance[node] + w=}')\n",
        "      if distance[neighbor] > distance[node] + w:\n",
        "        distance[neighbor] = distance[node] + w\n",
        "        q.put((distance[node] + w, neighbor))\n",
        "\n",
        "  return distance\n",
        "\n",
        "\n",
        "\n",
        "visited = []\n",
        "distance = []\n",
        "myList = []\n",
        "\n",
        "V = 0 # 정점의 개수\n",
        "E = 0 # 간선의 개수\n",
        "K = 0 # 시작노드\n",
        "\n",
        "f = open('input.txt', 'r')\n",
        "for i, line in enumerate(f):\n",
        "  if i == 0:\n",
        "    V, E = map(int, line.split())\n",
        "    myList = [[] for _ in range(V+1)]\n",
        "  elif i == 1:\n",
        "    K = int(line)\n",
        "  else:\n",
        "    u, v, w = map(int, line.split())\n",
        "    myList[u].append((v, w))\n",
        "f.close()\n",
        "\n",
        "# print(f'{myList=}')\n",
        "\n",
        "distance = dijkstra(myList, V, K)\n",
        "for d in distance[1:]:\n",
        "  if d == INF:\n",
        "    print(\"INF\")\n",
        "  else:\n",
        "    print(d)\n"
      ],
      "metadata": {
        "id": "SVC6sRF_jGuS"
      },
      "execution_count": null,
      "outputs": []
    }
  ],
  "metadata": {
    "colab": {
      "name": "Colaboratory에 오신 것을 환영합니다",
      "provenance": [],
      "include_colab_link": true
    },
    "kernelspec": {
      "display_name": "Python 3",
      "name": "python3"
    }
  },
  "nbformat": 4,
  "nbformat_minor": 0
}