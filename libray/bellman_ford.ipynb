{
  "cells": [
    {
      "cell_type": "markdown",
      "metadata": {
        "id": "view-in-github",
        "colab_type": "text"
      },
      "source": [
        "<a href=\"https://colab.research.google.com/github/dantae74/python/blob/master/libray/bellman_ford.ipynb\" target=\"_parent\"><img src=\"https://colab.research.google.com/assets/colab-badge.svg\" alt=\"Open In Colab\"/></a>"
      ]
    },
    {
      "cell_type": "code",
      "source": [
        "!pip install -Uqq ipdb\n",
        "import ipdb"
      ],
      "metadata": {
        "id": "WchiMrykOOUb"
      },
      "execution_count": null,
      "outputs": []
    },
    {
      "cell_type": "code",
      "source": [
        "%pdb on\n",
        "ipdb.set_trace(context=10)"
      ],
      "metadata": {
        "id": "bPi2FjmWOr5S"
      },
      "execution_count": null,
      "outputs": []
    },
    {
      "cell_type": "code",
      "source": [
        "import sys\n",
        "\n",
        "INF = sys.maxsize\n",
        "\n",
        "def bellmanFord(edges, N, M):\n",
        "  timeLoop = False\n",
        "  distances = [INF] * (N+1)\n",
        "  distances[1] = 0\n",
        "\n",
        "  for i in range(M-1):\n",
        "    for s, e, w in edges:\n",
        "      if distances[s] != INF:\n",
        "        if distances[e] > distances[s] + w:\n",
        "          distances[e] = distances[s] + w\n",
        "\n",
        "    for s, e, w in edges:\n",
        "      if distances[s] != INF:\n",
        "        if distances[e] > distances[s] + w:\n",
        "          timeLoop = True\n",
        "\n",
        "\n",
        "  return (timeLoop, distances[1:])\n",
        "\n",
        "'''\n",
        "N: 도시 개수\n",
        "M: 버스 노선 개수\n",
        "A: 시작도시, B: 도착도시, C: 소요시간\n",
        "'''\n",
        "\n",
        "edges = []\n",
        "\n",
        "f = open('input.txt', 'r')\n",
        "rc = 0\n",
        "for line in f:\n",
        "  if line[0] == '#': continue\n",
        "  elif line == '\\n': continue\n",
        "  elif rc == 0:\n",
        "    N, M = map(int, line.split())\n",
        "    rc += 1\n",
        "  else:\n",
        "    a, b, c = map(int, line.split())\n",
        "    edges.append((a,b,c))\n",
        "# for i, line in enumerate(f):\n",
        "#   if i == 0:\n",
        "#     N, M = map(int, line.split())\n",
        "#   else:\n",
        "#     a, b, c = map(int, line.split())\n",
        "#     edges.append((a,b,c))\n",
        "f.close()\n",
        "\n",
        "print(f'{edges=}')\n",
        "\n",
        "timeLoop, distances = bellmanFord(edges, N, M)\n",
        "\n",
        "if timeLoop:\n",
        "  print(-1)\n",
        "else:\n",
        "  for distance in distances[1:]:\n",
        "    if distance == INF:\n",
        "      print(-1)\n",
        "    else:\n",
        "      print(distance)"
      ],
      "metadata": {
        "id": "3m4AOoGuGjVO"
      },
      "execution_count": null,
      "outputs": []
    }
  ],
  "metadata": {
    "colab": {
      "name": "Colaboratory에 오신 것을 환영합니다",
      "provenance": [],
      "include_colab_link": true
    },
    "kernelspec": {
      "display_name": "Python 3",
      "name": "python3"
    }
  },
  "nbformat": 4,
  "nbformat_minor": 0
}