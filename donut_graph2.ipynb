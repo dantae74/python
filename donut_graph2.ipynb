{
  "cells": [
    {
      "cell_type": "markdown",
      "metadata": {
        "id": "view-in-github",
        "colab_type": "text"
      },
      "source": [
        "<a href=\"https://colab.research.google.com/github/dantae74/python/blob/master/donut_graph2.ipynb\" target=\"_parent\"><img src=\"https://colab.research.google.com/assets/colab-badge.svg\" alt=\"Open In Colab\"/></a>"
      ]
    },
    {
      "cell_type": "code",
      "source": [
        "!pip install -Uqq ipdb\n",
        "import ipdb"
      ],
      "metadata": {
        "id": "WchiMrykOOUb"
      },
      "execution_count": null,
      "outputs": []
    },
    {
      "cell_type": "code",
      "source": [
        "%pdb on\n",
        "ipdb.set_trace(context=10)"
      ],
      "metadata": {
        "id": "bPi2FjmWOr5S"
      },
      "execution_count": null,
      "outputs": []
    },
    {
      "cell_type": "code",
      "source": [
        "def solution(edges):\n",
        "    def count_edges(edges):\n",
        "        edge_counts = {}\n",
        "        for a, b in edges:\n",
        "            # 각 노드별로 간선의 수를 추가할 딕셔너리를 생성 - .get() 함수를 이용해 딕셔너리의 키 값 추가\n",
        "            if not edge_counts.get(a):\n",
        "                edge_counts[a] = [0, 0]\n",
        "            if not edge_counts.get(b):\n",
        "                edge_counts[b] = [0, 0]\n",
        "\n",
        "            # output edge와 input edge의 개수를 추가\n",
        "            edge_counts[a][0] += 1  # a는 n번 노드에서 나가는 간선\n",
        "            edge_counts[b][1] += 1  # b는 n번 노드로 들어오는 간선\n",
        "            # print(f\"{edge_counts=}\")\n",
        "        return edge_counts\n",
        "\n",
        "    def check_answer(egde_counts):\n",
        "        answer = [0, 0, 0, 0]\n",
        "        for key, counts in edge_counts.items():\n",
        "            # 생성된 정점의 번호 확인\n",
        "            if counts[0] >= 2 and counts[1] == 0:\n",
        "                answer[0] = key\n",
        "            # 막대 모양 그래프의 수 확인\n",
        "            elif counts[0] == 0 and counts[1] > 0:\n",
        "                answer[2] += 1\n",
        "            # 8자 모양 그래프의 수 확인\n",
        "            elif counts[0] >= 2 and counts[1] >= 2:\n",
        "                answer[3] += 1\n",
        "        # 도넛 모양 그래프의 수 확인\n",
        "        answer[1] = (edge_counts[answer[0]][0] - answer[2] - answer[3])\n",
        "\n",
        "        return answer\n",
        "\n",
        "    edge_counts = count_edges(edges)\n",
        "    answer = check_answer(edge_counts)\n",
        "\n",
        "    return answer\n",
        "\n",
        "\n",
        "edges1 = [[2, 3], [4, 3], [1, 1], [2, 1]]\n",
        "edges2 = [[4, 11], [1, 12], [8, 3], [12, 7], [4, 2], [7, 11], [4, 8], [9, 6], [10, 11], [6, 10], [3, 5], [11, 1], [5, 3], [11, 9], [3, 8]]\n",
        "\n",
        "print(solution(edges1))\n",
        "print(solution(edges2))"
      ],
      "metadata": {
        "id": "ktFYHuvH9QNx",
        "outputId": "83a71a0b-93b1-4ab7-a236-95f21ef2004b",
        "colab": {
          "base_uri": "https://localhost:8080/"
        }
      },
      "execution_count": 7,
      "outputs": [
        {
          "output_type": "stream",
          "name": "stdout",
          "text": [
            "key=2, counts=[2, 0]\n",
            "key=3, counts=[0, 2]\n",
            "key=4, counts=[1, 0]\n",
            "key=1, counts=[1, 2]\n",
            "[2, 1, 1, 0]\n",
            "key=4, counts=[3, 0]\n",
            "key=11, counts=[2, 3]\n",
            "key=1, counts=[1, 1]\n",
            "key=12, counts=[1, 1]\n",
            "key=8, counts=[1, 2]\n",
            "key=3, counts=[2, 2]\n",
            "key=7, counts=[1, 1]\n",
            "key=2, counts=[0, 1]\n",
            "key=9, counts=[1, 1]\n",
            "key=6, counts=[1, 1]\n",
            "key=10, counts=[1, 1]\n",
            "key=5, counts=[1, 1]\n",
            "[4, 0, 1, 2]\n"
          ]
        }
      ]
    },
    {
      "cell_type": "code",
      "source": [
        "edge_counts={2: [2, 0], 3: [0, 2], 4: [1, 0], 1: [1, 2]}\n",
        "edge_counts.items()"
      ],
      "metadata": {
        "id": "YISUp78v5hjH",
        "outputId": "5d66d542-7970-4506-d417-4beaf8e22e09",
        "colab": {
          "base_uri": "https://localhost:8080/"
        }
      },
      "execution_count": 5,
      "outputs": [
        {
          "output_type": "execute_result",
          "data": {
            "text/plain": [
              "dict_items([(2, [2, 0]), (3, [0, 2]), (4, [1, 0]), (1, [1, 2])])"
            ]
          },
          "metadata": {},
          "execution_count": 5
        }
      ]
    },
    {
      "cell_type": "code",
      "source": [],
      "metadata": {
        "id": "k4SPqHQE9fHe"
      },
      "execution_count": null,
      "outputs": []
    }
  ],
  "metadata": {
    "colab": {
      "name": "Colaboratory에 오신 것을 환영합니다",
      "provenance": [],
      "include_colab_link": true
    },
    "kernelspec": {
      "display_name": "Python 3",
      "name": "python3"
    }
  },
  "nbformat": 4,
  "nbformat_minor": 0
}