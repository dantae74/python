{
  "cells": [
    {
      "cell_type": "markdown",
      "metadata": {
        "id": "view-in-github",
        "colab_type": "text"
      },
      "source": [
        "<a href=\"https://colab.research.google.com/github/dantae74/python/blob/master/6-5.ipynb\" target=\"_parent\"><img src=\"https://colab.research.google.com/assets/colab-badge.svg\" alt=\"Open In Colab\"/></a>"
      ]
    },
    {
      "cell_type": "code",
      "source": [
        "route_values = []\n",
        "\n",
        "\n",
        "def search_route_value(board, route, pos):\n",
        "    global route_values = []\n",
        "    GOAL = (len(board)-1, len(board[0])-1)\n",
        "\n",
        "    if pos[1] == 0:\n",
        "\n",
        "\n",
        "\n",
        "    return route_values\n",
        "\n",
        "\n",
        "\n",
        "\n",
        "def solution(board):\n",
        "    route =[[(0,1) if i == len(board)-1 else (0,0) for i in range(len(board))]  for _ in range(len(board))]\n",
        "    print(route)\n",
        "\n",
        "    pos = (0,0)\n",
        "    return max(search_route_value(board, route, pos))\n",
        "\n",
        "\n",
        "board =  [[6, 7, 1, 2], [3, 5, 3, 9], [6, 4, 5, 2], [7, 3, 2, 6]]\n",
        "ret = solution(board)\n",
        "print(\"최대값은 {}입니다.\".format(ret))"
      ],
      "metadata": {
        "colab": {
          "base_uri": "https://localhost:8080/"
        },
        "id": "1krCXST2Mo5C",
        "outputId": "48c140c3-1fb8-46b6-a24e-d24ee6f9659e"
      },
      "execution_count": 17,
      "outputs": [
        {
          "output_type": "stream",
          "name": "stdout",
          "text": [
            "[[(0, 0), (0, 0), (0, 0), (0, 1)], [(0, 0), (0, 0), (0, 0), (0, 1)], [(0, 0), (0, 0), (0, 0), (0, 1)], [(0, 0), (0, 0), (0, 0), (0, 1)]]\n",
            "최대값은 None입니다.\n"
          ]
        }
      ]
    },
    {
      "cell_type": "code",
      "source": [
        " route =[[(0,1) if i == 0 else (0,0) for i in range(4)]  for _ in range(4)]\n",
        " route"
      ],
      "metadata": {
        "colab": {
          "base_uri": "https://localhost:8080/"
        },
        "id": "0dqbYZhtxXNv",
        "outputId": "793d0af7-8c77-4592-f78f-bfa083930553"
      },
      "execution_count": 13,
      "outputs": [
        {
          "output_type": "execute_result",
          "data": {
            "text/plain": [
              "[[(0, 1), (0, 0), (0, 0), (0, 0)],\n",
              " [(0, 1), (0, 0), (0, 0), (0, 0)],\n",
              " [(0, 1), (0, 0), (0, 0), (0, 0)],\n",
              " [(0, 1), (0, 0), (0, 0), (0, 0)]]"
            ]
          },
          "metadata": {},
          "execution_count": 13
        }
      ]
    },
    {
      "cell_type": "code",
      "source": [
        "GOAL = (3,3)\n",
        "GOAL"
      ],
      "metadata": {
        "colab": {
          "base_uri": "https://localhost:8080/"
        },
        "id": "dev9_-ZxxZCx",
        "outputId": "4fbf0098-758c-4832-a874-8d9a5f6824a6"
      },
      "execution_count": 18,
      "outputs": [
        {
          "output_type": "execute_result",
          "data": {
            "text/plain": [
              "(3, 3)"
            ]
          },
          "metadata": {},
          "execution_count": 18
        }
      ]
    },
    {
      "cell_type": "code",
      "source": [],
      "metadata": {
        "id": "wCoiNaZl3ZiJ"
      },
      "execution_count": null,
      "outputs": []
    }
  ],
  "metadata": {
    "colab": {
      "name": "Colaboratory에 오신 것을 환영합니다",
      "provenance": [],
      "include_colab_link": true
    },
    "kernelspec": {
      "display_name": "Python 3",
      "name": "python3"
    }
  },
  "nbformat": 4,
  "nbformat_minor": 0
}