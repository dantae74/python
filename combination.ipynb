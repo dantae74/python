{
  "cells": [
    {
      "cell_type": "markdown",
      "metadata": {
        "id": "view-in-github",
        "colab_type": "text"
      },
      "source": [
        "<a href=\"https://colab.research.google.com/github/dantae74/python/blob/master/combination.ipynb\" target=\"_parent\"><img src=\"https://colab.research.google.com/assets/colab-badge.svg\" alt=\"Open In Colab\"/></a>"
      ]
    },
    {
      "cell_type": "code",
      "source": [
        "!pip install -Uqq ipdb\n",
        "import ipdb"
      ],
      "metadata": {
        "id": "WchiMrykOOUb"
      },
      "execution_count": null,
      "outputs": []
    },
    {
      "cell_type": "code",
      "source": [
        "%pdb on\n",
        "ipdb.set_trace(context=10)"
      ],
      "metadata": {
        "id": "bPi2FjmWOr5S"
      },
      "execution_count": null,
      "outputs": []
    },
    {
      "cell_type": "code",
      "source": [
        "input_data = '''1000 800'''\n",
        "input_list = input_data.split('\\n')\n",
        "\n",
        "for line in input_list:\n",
        "  N, K = map(int, line.split())\n",
        "  print(N, K)\n",
        "\n",
        "D = [ [0 for i in range(N+1)] for j in range(N+1)]\n",
        "\n",
        "# 초기화, iC1 = i, iC0 = 1, iCi = 1\n",
        "for i in range(N+1):\n",
        "  D[i][1] = i\n",
        "  D[i][0] = 1\n",
        "  D[i][i] = 1\n",
        "\n",
        "# for i in range(N+1):\n",
        "#   print(D[i])\n",
        "# print()\n",
        "\n",
        "for i in range(N+1):\n",
        "  for j in range(i):\n",
        "    if D[i][j] == 0:\n",
        "      D[i][j] = D[i-1][j-1] + D[i-1][j]\n",
        "      # D[i][j] %= 10007\n",
        "\n",
        "# for i in range(N+1):\n",
        "#   print(D[i])\n",
        "\n",
        "# print()\n",
        "\n",
        "print(f\"D[N][K] % 10007= {D[N][K] % 10007} \")\n"
      ],
      "metadata": {
        "id": "VSRKow-RkFTJ"
      },
      "execution_count": null,
      "outputs": []
    },
    {
      "cell_type": "code",
      "source": [],
      "metadata": {
        "id": "-rMvZHBimjAv"
      },
      "execution_count": null,
      "outputs": []
    }
  ],
  "metadata": {
    "colab": {
      "name": "Colaboratory에 오신 것을 환영합니다",
      "provenance": [],
      "include_colab_link": true
    },
    "kernelspec": {
      "display_name": "Python 3",
      "name": "python3"
    }
  },
  "nbformat": 4,
  "nbformat_minor": 0
}