{
  "cells": [
    {
      "cell_type": "markdown",
      "metadata": {
        "id": "view-in-github",
        "colab_type": "text"
      },
      "source": [
        "<a href=\"https://colab.research.google.com/github/dantae74/python/blob/master/tomato_3d.ipynb\" target=\"_parent\"><img src=\"https://colab.research.google.com/assets/colab-badge.svg\" alt=\"Open In Colab\"/></a>"
      ]
    },
    {
      "cell_type": "code",
      "source": [
        "!pip install -Uqq ipdb\n",
        "import ipdb"
      ],
      "metadata": {
        "id": "WchiMrykOOUb",
        "outputId": "2b36ccbb-3380-49a8-88c8-349bcd77b6e1",
        "colab": {
          "base_uri": "https://localhost:8080/"
        }
      },
      "execution_count": 5,
      "outputs": [
        {
          "output_type": "stream",
          "name": "stdout",
          "text": [
            "\u001b[?25l     \u001b[90m━━━━━━━━━━━━━━━━━━━━━━━━━━━━━━━━━━━━━━━━\u001b[0m \u001b[32m0.0/1.6 MB\u001b[0m \u001b[31m?\u001b[0m eta \u001b[36m-:--:--\u001b[0m\r\u001b[2K     \u001b[91m━\u001b[0m\u001b[91m╸\u001b[0m\u001b[90m━━━━━━━━━━━━━━━━━━━━━━━━━━━━━━━━━━━━━━\u001b[0m \u001b[32m0.1/1.6 MB\u001b[0m \u001b[31m1.9 MB/s\u001b[0m eta \u001b[36m0:00:01\u001b[0m\r\u001b[2K     \u001b[91m━━━━━━━━━━━━━━━━━━━━━━━━━━━━━━━━\u001b[0m\u001b[90m╺\u001b[0m\u001b[90m━━━━━━━\u001b[0m \u001b[32m1.3/1.6 MB\u001b[0m \u001b[31m19.5 MB/s\u001b[0m eta \u001b[36m0:00:01\u001b[0m\r\u001b[2K     \u001b[90m━━━━━━━━━━━━━━━━━━━━━━━━━━━━━━━━━━━━━━━━\u001b[0m \u001b[32m1.6/1.6 MB\u001b[0m \u001b[31m16.4 MB/s\u001b[0m eta \u001b[36m0:00:00\u001b[0m\n",
            "\u001b[?25h"
          ]
        }
      ]
    },
    {
      "cell_type": "code",
      "source": [
        "%pdb on\n",
        "ipdb.set_trace(context=10)"
      ],
      "metadata": {
        "id": "bPi2FjmWOr5S",
        "outputId": "a5738b20-4f9b-496c-efc0-a48a87e9a581",
        "colab": {
          "base_uri": "https://localhost:8080/"
        }
      },
      "execution_count": null,
      "outputs": [
        {
          "output_type": "stream",
          "name": "stdout",
          "text": [
            "Automatic pdb calling has been turned ON\n"
          ]
        }
      ]
    },
    {
      "cell_type": "code",
      "source": [
        "DEBUG = False\n",
        "\n",
        "inp = [ \"5 3 1\",\n",
        "\"0 -1 0 0 0\",\n",
        "\"-1 -1 0 1 1\",\n",
        "\"0 0 0 1 1\"]\n",
        "\n",
        "\n",
        "# X, Y, Z\n",
        "M, N, H = map(int, inp[0].split())\n",
        "if DEBUG:\n",
        "  print(M, N, H)\n",
        "\n",
        "# Z, Y, X\n",
        "graph = [[]]\n",
        "\n",
        "for i in range(H):\n",
        "  for j in range(N):\n",
        "    graph[i].append(list(map(int, inp[j+1].split())))\n",
        "\n",
        "if DEBUG:\n",
        "  print(\"graph:\\n{}\".format(graph))\n",
        "\n",
        "solution(graph, M, N, H)\n",
        "\n",
        "\n",
        "def solution(graph, M, N, H):\n",
        "  # 앞, 뒤, 상, 하, 좌, 우\n",
        "  dx = [0, 0, 0, 0, -1, 1]\n",
        "  dy = [0, 0, -1, 1, 0, 0]\n",
        "  dz = [1, -1, 0, 0, 0, 0]\n",
        "\n",
        "\n",
        "\n",
        "  day = 0\n",
        "  while True:\n",
        "    day += 1\n",
        "    for i in range(H):\n",
        "      for j in range(N):\n",
        "        for k in range(M):\n",
        "\n",
        "\n"
      ],
      "metadata": {
        "id": "IVLe6FZ-DQKQ"
      },
      "execution_count": 57,
      "outputs": []
    },
    {
      "cell_type": "code",
      "source": [],
      "metadata": {
        "id": "bp8f6zd7Z3P2"
      },
      "execution_count": null,
      "outputs": []
    }
  ],
  "metadata": {
    "colab": {
      "name": "Colaboratory에 오신 것을 환영합니다",
      "provenance": [],
      "include_colab_link": true
    },
    "kernelspec": {
      "display_name": "Python 3",
      "name": "python3"
    }
  },
  "nbformat": 4,
  "nbformat_minor": 0
}