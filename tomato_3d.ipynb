{
  "cells": [
    {
      "cell_type": "markdown",
      "metadata": {
        "id": "view-in-github",
        "colab_type": "text"
      },
      "source": [
        "<a href=\"https://colab.research.google.com/github/dantae74/python/blob/master/tomato_3d.ipynb\" target=\"_parent\"><img src=\"https://colab.research.google.com/assets/colab-badge.svg\" alt=\"Open In Colab\"/></a>"
      ]
    },
    {
      "cell_type": "code",
      "source": [
        "!pip install -Uqq ipdb\n",
        "import ipdb"
      ],
      "metadata": {
        "id": "WchiMrykOOUb",
        "outputId": "2b36ccbb-3380-49a8-88c8-349bcd77b6e1",
        "colab": {
          "base_uri": "https://localhost:8080/"
        }
      },
      "execution_count": null,
      "outputs": [
        {
          "output_type": "stream",
          "name": "stdout",
          "text": [
            "\u001b[?25l     \u001b[90m━━━━━━━━━━━━━━━━━━━━━━━━━━━━━━━━━━━━━━━━\u001b[0m \u001b[32m0.0/1.6 MB\u001b[0m \u001b[31m?\u001b[0m eta \u001b[36m-:--:--\u001b[0m\r\u001b[2K     \u001b[91m━\u001b[0m\u001b[91m╸\u001b[0m\u001b[90m━━━━━━━━━━━━━━━━━━━━━━━━━━━━━━━━━━━━━━\u001b[0m \u001b[32m0.1/1.6 MB\u001b[0m \u001b[31m1.9 MB/s\u001b[0m eta \u001b[36m0:00:01\u001b[0m\r\u001b[2K     \u001b[91m━━━━━━━━━━━━━━━━━━━━━━━━━━━━━━━━\u001b[0m\u001b[90m╺\u001b[0m\u001b[90m━━━━━━━\u001b[0m \u001b[32m1.3/1.6 MB\u001b[0m \u001b[31m19.5 MB/s\u001b[0m eta \u001b[36m0:00:01\u001b[0m\r\u001b[2K     \u001b[90m━━━━━━━━━━━━━━━━━━━━━━━━━━━━━━━━━━━━━━━━\u001b[0m \u001b[32m1.6/1.6 MB\u001b[0m \u001b[31m16.4 MB/s\u001b[0m eta \u001b[36m0:00:00\u001b[0m\n",
            "\u001b[?25h"
          ]
        }
      ]
    },
    {
      "cell_type": "code",
      "source": [
        "%pdb on\n",
        "ipdb.set_trace(context=10)"
      ],
      "metadata": {
        "id": "bPi2FjmWOr5S",
        "outputId": "a5738b20-4f9b-496c-efc0-a48a87e9a581",
        "colab": {
          "base_uri": "https://localhost:8080/"
        }
      },
      "execution_count": null,
      "outputs": [
        {
          "output_type": "stream",
          "name": "stdout",
          "text": [
            "Automatic pdb calling has been turned ON\n"
          ]
        }
      ]
    },
    {
      "cell_type": "code",
      "source": [
        "DEBUG = False\n",
        "\n",
        "def is_valid(x,y,z, mx, my, mz, M, N, H):\n",
        "  if 0<= x+mx < M and 0 <= y+my < N and 0<= z+mz < H:\n",
        "    return True\n",
        "  else:\n",
        "    return False\n",
        "\n",
        "def solution(graph, M, N, H):\n",
        "  # 앞, 뒤, 상, 하, 좌, 우\n",
        "  dx = [0, 0, 0, 0, -1, 1]\n",
        "  dy = [0, 0, -1, 1, 0, 0]\n",
        "  dz = [1, -1, 0, 0, 0, 0]\n",
        "\n",
        "  one_after = list(graph)\n",
        "\n",
        "  day = 0\n",
        "  while True:\n",
        "    day += 1\n",
        "    changed = False\n",
        "    for i in range(H):\n",
        "      for j in range(N):\n",
        "        for k in range(M):\n",
        "          # Z,Y,X\n",
        "          if one_after[i][j][k] == 1:\n",
        "              for x,y,z in zip(dx, dy, dz):\n",
        "                if is_valid(k,j,i,x,y,z, M, N, H) and one_after[i+z][j+y][k+x] == 0:\n",
        "                  one_after[i+z][j+y][k+x] = 1\n",
        "                  changed = True\n",
        "\n",
        "    if changed == False:\n",
        "      break\n",
        "    else:\n",
        "      print(\"day:{}\".format(day))\n",
        "\n",
        "  print(one_after)\n",
        "\n",
        "  if 0 not in one_after:\n",
        "    print(\"result: {}\".format(-1))\n",
        "  else:\n",
        "    print(\"result: {}\".format(day))\n",
        "\n",
        "\n",
        "# inp = [ \"5 3 1\",\n",
        "# \"0 -1 0 0 0\",\n",
        "# \"-1 -1 0 1 1\",\n",
        "# \"0 0 0 1 1\"]\n",
        "\n",
        "inp = [\"5 3 2\",\n",
        "\"0 0 0 0 0\",\n",
        "\"0 0 0 0 0\",\n",
        "\"0 0 0 0 0\",\n",
        "\"0 0 0 0 0\",\n",
        "\"0 0 1 0 0\",\n",
        "\"0 0 0 0 0\"]\n",
        "\n",
        "\n",
        "# X, Y, Z\n",
        "M, N, H = map(int, inp[0].split())\n",
        "if DEBUG:\n",
        "  print(M, N, H)\n",
        "\n",
        "# Z, Y, X\n",
        "graph = [[]]\n",
        "\n",
        "for i in range(H):\n",
        "  for j in range(N):\n",
        "    graph[i].append(list(map(int, inp[j+1].split())))\n",
        "\n",
        "if DEBUG:\n",
        "  print(\"graph:\\n{}\".format(graph))\n",
        "\n",
        "solution(graph, M, N, H)\n"
      ],
      "metadata": {
        "id": "IVLe6FZ-DQKQ",
        "outputId": "c5e2b70d-d135-4147-9d7d-2947f36d52ef",
        "colab": {
          "base_uri": "https://localhost:8080/",
          "height": 256
        }
      },
      "execution_count": 20,
      "outputs": [
        {
          "output_type": "error",
          "ename": "IndexError",
          "evalue": "ignored",
          "traceback": [
            "\u001b[0;31m---------------------------------------------------------------------------\u001b[0m",
            "\u001b[0;31mIndexError\u001b[0m                                Traceback (most recent call last)",
            "\u001b[0;32m<ipython-input-20-a70fdcfe7f3c>\u001b[0m in \u001b[0;36m<cell line: 66>\u001b[0;34m()\u001b[0m\n\u001b[1;32m     66\u001b[0m \u001b[0;32mfor\u001b[0m \u001b[0mi\u001b[0m \u001b[0;32min\u001b[0m \u001b[0mrange\u001b[0m\u001b[0;34m(\u001b[0m\u001b[0mH\u001b[0m\u001b[0;34m)\u001b[0m\u001b[0;34m:\u001b[0m\u001b[0;34m\u001b[0m\u001b[0;34m\u001b[0m\u001b[0m\n\u001b[1;32m     67\u001b[0m   \u001b[0;32mfor\u001b[0m \u001b[0mj\u001b[0m \u001b[0;32min\u001b[0m \u001b[0mrange\u001b[0m\u001b[0;34m(\u001b[0m\u001b[0mN\u001b[0m\u001b[0;34m)\u001b[0m\u001b[0;34m:\u001b[0m\u001b[0;34m\u001b[0m\u001b[0;34m\u001b[0m\u001b[0m\n\u001b[0;32m---> 68\u001b[0;31m     \u001b[0mgraph\u001b[0m\u001b[0;34m[\u001b[0m\u001b[0mi\u001b[0m\u001b[0;34m]\u001b[0m\u001b[0;34m.\u001b[0m\u001b[0mappend\u001b[0m\u001b[0;34m(\u001b[0m\u001b[0mlist\u001b[0m\u001b[0;34m(\u001b[0m\u001b[0mmap\u001b[0m\u001b[0;34m(\u001b[0m\u001b[0mint\u001b[0m\u001b[0;34m,\u001b[0m \u001b[0minp\u001b[0m\u001b[0;34m[\u001b[0m\u001b[0mj\u001b[0m\u001b[0;34m+\u001b[0m\u001b[0;36m1\u001b[0m\u001b[0;34m]\u001b[0m\u001b[0;34m.\u001b[0m\u001b[0msplit\u001b[0m\u001b[0;34m(\u001b[0m\u001b[0;34m)\u001b[0m\u001b[0;34m)\u001b[0m\u001b[0;34m)\u001b[0m\u001b[0;34m)\u001b[0m\u001b[0;34m\u001b[0m\u001b[0;34m\u001b[0m\u001b[0m\n\u001b[0m\u001b[1;32m     69\u001b[0m \u001b[0;34m\u001b[0m\u001b[0m\n\u001b[1;32m     70\u001b[0m \u001b[0;32mif\u001b[0m \u001b[0mDEBUG\u001b[0m\u001b[0;34m:\u001b[0m\u001b[0;34m\u001b[0m\u001b[0;34m\u001b[0m\u001b[0m\n",
            "\u001b[0;31mIndexError\u001b[0m: list index out of range"
          ]
        }
      ]
    },
    {
      "cell_type": "code",
      "source": [
        "a = [[[1,2,3], [4,5,6]]]\n",
        "b = [[[1,2,3], [4,5,6]]]"
      ],
      "metadata": {
        "id": "bp8f6zd7Z3P2"
      },
      "execution_count": 10,
      "outputs": []
    },
    {
      "cell_type": "code",
      "source": [
        "a == b"
      ],
      "metadata": {
        "id": "jVwka4oIaGIy",
        "outputId": "2f4d6c2e-7236-434f-b91c-99c37034609c",
        "colab": {
          "base_uri": "https://localhost:8080/"
        }
      },
      "execution_count": 11,
      "outputs": [
        {
          "output_type": "execute_result",
          "data": {
            "text/plain": [
              "True"
            ]
          },
          "metadata": {},
          "execution_count": 11
        }
      ]
    },
    {
      "cell_type": "code",
      "source": [],
      "metadata": {
        "id": "we3gJ5yDajNK"
      },
      "execution_count": null,
      "outputs": []
    }
  ],
  "metadata": {
    "colab": {
      "name": "Colaboratory에 오신 것을 환영합니다",
      "provenance": [],
      "include_colab_link": true
    },
    "kernelspec": {
      "display_name": "Python 3",
      "name": "python3"
    }
  },
  "nbformat": 4,
  "nbformat_minor": 0
}