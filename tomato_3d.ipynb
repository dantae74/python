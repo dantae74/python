{
  "cells": [
    {
      "cell_type": "markdown",
      "metadata": {
        "id": "view-in-github",
        "colab_type": "text"
      },
      "source": [
        "<a href=\"https://colab.research.google.com/github/dantae74/python/blob/master/tomato_3d.ipynb\" target=\"_parent\"><img src=\"https://colab.research.google.com/assets/colab-badge.svg\" alt=\"Open In Colab\"/></a>"
      ]
    },
    {
      "cell_type": "code",
      "source": [
        "!pip install -Uqq ipdb\n",
        "import ipdb"
      ],
      "metadata": {
        "id": "WchiMrykOOUb"
      },
      "execution_count": null,
      "outputs": []
    },
    {
      "cell_type": "code",
      "source": [
        "%pdb on\n",
        "ipdb.set_trace(context=10)"
      ],
      "metadata": {
        "id": "bPi2FjmWOr5S"
      },
      "execution_count": null,
      "outputs": []
    },
    {
      "cell_type": "code",
      "source": [
        "DEBUG = True\n",
        "\n",
        "def is_valid(x,y,z, mx, my, mz, M, N, H):\n",
        "  if 0<= x+mx < M and 0 <= y+my < N and 0<= z+mz < H:\n",
        "    return True\n",
        "  else:\n",
        "    return False\n",
        "\n",
        "def solution(graph, M, N, H):\n",
        "  # 앞, 뒤, 상, 하, 좌, 우\n",
        "  dx = [0, 0, 0, 0, -1, 1]\n",
        "  dy = [0, 0, -1, 1, 0, 0]\n",
        "  dz = [1, -1, 0, 0, 0, 0]\n",
        "\n",
        "  one_after = list(graph)\n",
        "\n",
        "  day = 0\n",
        "  while True:\n",
        "    day += 1\n",
        "    changed = False\n",
        "    for i in range(H):\n",
        "      for j in range(N):\n",
        "        for k in range(M):\n",
        "          # Z,Y,X\n",
        "          if one_after[i][j][k] == 1:\n",
        "              for x,y,z in zip(dx, dy, dz):\n",
        "                if is_valid(k,j,i,x,y,z, M, N, H) and one_after[i+z][j+y][k+x] == 0:\n",
        "                  one_after[i+z][j+y][k+x] = 1\n",
        "                  changed = True\n",
        "\n",
        "    if changed == False:\n",
        "      break\n",
        "    else:\n",
        "      print(\"day:{}\".format(day))\n",
        "\n",
        "  print(one_after)\n",
        "\n",
        "  if 0 not in one_after:\n",
        "    print(\"result: {}\".format(-1))\n",
        "  else:\n",
        "    print(\"result: {}\".format(day))\n",
        "\n",
        "\n",
        "# inp = [ \"5 3 1\",\n",
        "# \"0 -1 0 0 0\",\n",
        "# \"-1 -1 0 1 1\",\n",
        "# \"0 0 0 1 1\"]\n",
        "\n",
        "inp = [\"5 3 2\",\n",
        "\"0 0 0 0 0\",\n",
        "\"0 0 0 0 0\",\n",
        "\"0 0 0 0 0\",\n",
        "\"0 0 0 0 0\",\n",
        "\"0 0 1 0 0\",\n",
        "\"0 0 0 0 0\"]\n",
        "\n",
        "\n",
        "# X, Y, Z\n",
        "M, N, H = map(int, inp[0].split())\n",
        "if DEBUG:\n",
        "  print(M, N, H)\n",
        "\n",
        "# Z, Y, X\n",
        "graph = [[]]\n",
        "\n",
        "for i in range(H):\n",
        "  for j in range(N):\n",
        "    # ipdb.set_trace(context=10)\n",
        "    print(\"i:{}, j:{}\".format(i,j))\n",
        "    graph[i].append(list(map(int, inp[j+1].split())))\n",
        "\n",
        "if DEBUG:\n",
        "  print(\"graph:\\n{}\".format(graph))\n",
        "\n",
        "solution(graph, M, N, H)\n"
      ],
      "metadata": {
        "id": "IVLe6FZ-DQKQ"
      },
      "execution_count": null,
      "outputs": []
    },
    {
      "cell_type": "code",
      "source": [
        "nna = [[[1,2,3], [4,5,6]]]\n",
        "b = [[[1,2,3], [4,5,6]]]"
      ],
      "metadata": {
        "id": "bp8f6zd7Z3P2"
      },
      "execution_count": null,
      "outputs": []
    },
    {
      "cell_type": "code",
      "source": [
        "a == b"
      ],
      "metadata": {
        "id": "jVwka4oIaGIy"
      },
      "execution_count": null,
      "outputs": []
    },
    {
      "cell_type": "code",
      "source": [],
      "metadata": {
        "id": "we3gJ5yDajNK"
      },
      "execution_count": null,
      "outputs": []
    }
  ],
  "metadata": {
    "colab": {
      "name": "Colaboratory에 오신 것을 환영합니다",
      "provenance": [],
      "include_colab_link": true
    },
    "kernelspec": {
      "display_name": "Python 3",
      "name": "python3"
    }
  },
  "nbformat": 4,
  "nbformat_minor": 0
}